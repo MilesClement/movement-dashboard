{
 "cells": [
  {
   "cell_type": "code",
   "execution_count": null,
   "metadata": {},
   "outputs": [],
   "source": [
    "import pandas as pd\n",
    "import numpy as np\n",
    "import json\n",
    "import math\n",
    "import urllib.request\n",
    "import re\n",
    "import gc\n",
    "import dateutil.parser\n",
    "import dateutil.rrule\n",
    "import dateutil.tz\n",
    "import datetime"
   ]
  },
  {
   "cell_type": "code",
   "execution_count": null,
   "metadata": {},
   "outputs": [],
   "source": [
    "# Used across most of the plots for people flows\n",
    "tzUTC = dateutil.tz.gettz('UTC')\n",
    "tzLocal = dateutil.tz.gettz('Europe/London')\n",
    "dateToday = datetime.datetime.combine(datetime.date.today(), datetime.datetime.min.time()).replace(tzinfo=tzLocal)\n",
    "\n",
    "#plottableTypes = ['int16', 'int32', 'int64', 'float16', 'float32', 'float64']\n",
    "\n",
    "#govChartStart = datetime.datetime.strptime('2020-03-01T00:00:00Z', '%Y-%m-%dT%H:%M:%SZ').replace(tzinfo=tzLocal)\n",
    "#dateBaselineEnd = datetime.datetime.strptime('2020-03-15T23:59:59Z', '%Y-%m-%dT%H:%M:%SZ').replace(tzinfo=tzLocal)\n",
    "\n",
    "trafficCountInterval = 900"
   ]
  },
  {
   "cell_type": "code",
   "execution_count": null,
   "metadata": {},
   "outputs": [],
   "source": [
    "scootDescriptionUrl = 'https://opendata.hullcc.gov.uk/dataset/30fd3969-556d-4eae-ae4c-f3f9d2cfa9e3/resource/4ff61436-cd61-4716-bdbc-79711f738a6c/download/scoot_data.geojson'\n",
    "\n",
    "scootMetadataJson = json.loads(\n",
    "    urllib.request.urlopen(scootDescriptionUrl).read().decode('utf-8')\n",
    ")['features']\n",
    "\n",
    "scootMetadata = pd.DataFrame.from_records(pd.json_normalize(scootMetadataJson), index=['properties.name'])\n",
    "scootMetadata"
   ]
  },
  {
   "cell_type": "code",
   "execution_count": null,
   "metadata": {},
   "outputs": [],
   "source": [
    "dfPointTs = None\n",
    "\n",
    "for loopId in scootMetadata.index:\n",
    "    print('Obtaining timeseries for loop \"%s\"...' % loopId)\n",
    "    loopMeta = scootMetadata[scootMetadata.index == loopId].to_dict(orient='records')[0]\n",
    "    loopResourceId = loopMeta['properties.resource_id']\n",
    "    \n",
    "    pdLoopTs = pd.read_csv(urllib.request.urlopen('https://opendata.hullcc.gov.uk/datastore/dump/%s?format=csv' % loopResourceId))\n",
    "    pdLoopTs['MeasurementTime'] = pdLoopTs['MeasurementTime'].apply(lambda t: datetime.datetime.strptime(t, \"%Y-%m-%dT%H:%M:%S.%fZ\").replace(tzinfo=tzUTC).astimezone(tzLocal))\n",
    "    pdLoopTs.set_index('MeasurementTime', inplace=True, drop=True)\n",
    "    \n",
    "    if (pdLoopTs['VehicleFlow'].sum() == 0.0):\n",
    "        print('  No vehicle flow data available.')\n",
    "        continue\n",
    "    \n",
    "    # Change to per-minute vehicle flows\n",
    "    pdLoopTs = (pdLoopTs['VehicleFlow'] / 5.0).to_frame().rename(columns={'VehicleFlow': loopId})\n",
    "    \n",
    "    if dfPointTs is None:\n",
    "        dfPointTs = pdLoopTs\n",
    "    else:\n",
    "        dfPointTs = dfPointTs.join(\n",
    "            pdLoopTs, \n",
    "            how='outer'\n",
    "        )\n",
    "        pdLoopTs = None\n",
    "    \n",
    "    gc.collect()"
   ]
  },
  {
   "cell_type": "code",
   "execution_count": null,
   "metadata": {},
   "outputs": [],
   "source": [
    "# Incoming data is actually 5 minutes, so align to that\n",
    "# then accept we have lots of gaps and make it 15 minute data\n",
    "# and then interpolate to fill gaps if possible, maximum of an hour distance\n",
    "dfPointInterpTs = dfPointTs \\\n",
    "    .resample('300s').median() \\\n",
    "    .resample('900s').median() \\\n",
    "    .interpolate('linear', limit=2) \\\n",
    "    .apply(lambda v: v * 15)\n",
    "\n",
    "# 15 minute timeseries\n",
    "#dfPointInterpTs.tail(50)\n",
    "\n",
    "dfPointInterpTs.to_pickle('../cache/hull-recent-traffic-volumes-pd.pkl')"
   ]
  },
  {
   "cell_type": "code",
   "execution_count": null,
   "metadata": {},
   "outputs": [],
   "source": []
  }
 ],
 "metadata": {
  "kernelspec": {
   "display_name": "Python 3",
   "language": "python",
   "name": "python3"
  },
  "language_info": {
   "codemirror_mode": {
    "name": "ipython",
    "version": 3
   },
   "file_extension": ".py",
   "mimetype": "text/x-python",
   "name": "python",
   "nbconvert_exporter": "python",
   "pygments_lexer": "ipython3",
   "version": "3.7.6"
  }
 },
 "nbformat": 4,
 "nbformat_minor": 4
}
