{
 "cells": [
  {
   "cell_type": "markdown",
   "metadata": {},
   "source": [
    "# Quantifying the impacts of virus measures introduced\n",
    "\n",
    "We are collecting evidence of the effects of measures introduced in response to COVID-19 in the United Kingdom. At present, the only data available here is for Tyne and Wear, but we are actively looking for representative data for other cities and urban areas in the country.\n",
    "\n",
    "New pages will be added by our team when we complete each element of analysis. The figures and tables should update automatically.\n",
    "\n",
    "## Do you have data?\n",
    "\n",
    "If you have real-time data on pedestrian footfall, vehicle movements, car parking or any other indicator of whether people are changing their daily routine, working from home or self-isolating, then we want to hear from you. \n",
    "\n",
    "Please email us [luke.smith@ncl.ac.uk](mailto:luke.smith@ncl.ac.uk).\n"
   ]
  },
  {
   "cell_type": "code",
   "execution_count": null,
   "metadata": {},
   "outputs": [],
   "source": []
  }
 ],
 "metadata": {
  "kernelspec": {
   "display_name": "Python 3",
   "language": "python",
   "name": "python3"
  },
  "language_info": {
   "codemirror_mode": {
    "name": "ipython",
    "version": 3
   },
   "file_extension": ".py",
   "mimetype": "text/x-python",
   "name": "python",
   "nbconvert_exporter": "python",
   "pygments_lexer": "ipython3",
   "version": "3.7.6"
  }
 },
 "nbformat": 4,
 "nbformat_minor": 4
}
