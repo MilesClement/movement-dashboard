{
 "cells": [
  {
   "cell_type": "code",
   "execution_count": null,
   "metadata": {},
   "outputs": [],
   "source": [
    "import requests\n",
    "from IPython.display import GeoJSON\n",
    "import pandas as pd\n",
    "import numpy as np\n",
    "import io\n",
    "import datetime\n",
    "import urllib.request\n",
    "import gc"
   ]
  },
  {
   "cell_type": "code",
   "execution_count": null,
   "metadata": {},
   "outputs": [],
   "source": [
    "## Precision AQ Monitoring Stations\n",
    "sensorList = ['PER_AIRMON_MONITOR1048100',\n",
    "                'PER_AIRMON_MONITOR1156100', \n",
    "                'PER_AIRMON_MONITOR1056100',\n",
    "                'PER_AIRMON_MONITOR914', \n",
    "                'PER_AIRMON_MONITOR1155100', \n",
    "                'PER_AIRMON_MONITOR1135100']\n",
    "\n",
    "## Key Variables\n",
    "variables = ['NO2','PM2.5','PM10']"
   ]
  },
  {
   "cell_type": "code",
   "execution_count": null,
   "metadata": {},
   "outputs": [],
   "source": [
    "for s in sensorList:\n",
    "    apiCall = 'http://uoweb3.ncl.ac.uk/api/v1.1/sensors/'+s+'/data/csv/'\n",
    "\n",
    "    now = datetime.datetime.now().strftime('%Y%m%d%H%M%S')\n",
    "    params = dict(starttime='20200316000000',endtime=now)\n",
    "\n",
    "    r = requests.get(apiCall,params)\n",
    "    recentData = pd.read_csv(io.StringIO(r.text))\n",
    "\n",
    "    ## Update filepath to cache\n",
    "    pd.to_pickle(recentData, 'C:/Covid_Baseline/recent_aq_'+s+'.pkl')\n",
    "    recentData = None\n",
    "    gc.collect()\n"
   ]
  }
 ],
 "metadata": {
  "kernelspec": {
   "display_name": "Python 3",
   "language": "python",
   "name": "python3"
  },
  "language_info": {
   "codemirror_mode": {
    "name": "ipython",
    "version": 3
   },
   "file_extension": ".py",
   "mimetype": "text/x-python",
   "name": "python",
   "nbconvert_exporter": "python",
   "pygments_lexer": "ipython3",
   "version": "3.7.6"
  }
 },
 "nbformat": 4,
 "nbformat_minor": 4
}
