{
 "cells": [
  {
   "cell_type": "code",
   "execution_count": null,
   "metadata": {},
   "outputs": [],
   "source": [
    "from IPython.display import GeoJSON\n",
    "import pandas as pd\n",
    "import numpy as np\n",
    "import matplotlib.pyplot as plt\n",
    "import warnings\n",
    "\n",
    "## The code threw up some SettingWithCopyWarnings that I will fix at somepoint\n",
    "warnings.filterwarnings('ignore')"
   ]
  },
  {
   "cell_type": "code",
   "execution_count": null,
   "metadata": {},
   "outputs": [],
   "source": [
    "sensorList = ['PER_AIRMON_MONITOR1048100',\n",
    "                'PER_AIRMON_MONITOR1156100', \n",
    "                'PER_AIRMON_MONITOR1056100',\n",
    "                'PER_AIRMON_MONITOR914', \n",
    "                'PER_AIRMON_MONITOR1155100', \n",
    "                'PER_AIRMON_MONITOR1135100']\n",
    "\n",
    "friendlyNames = {\n",
    "        'PER_AIRMON_MONITOR1048100': 'Coast Road @ Centurion Park',\n",
    "        'PER_AIRMON_MONITOR1156100': 'Angel of the North',\n",
    "        'PER_AIRMON_MONITOR1056100': 'Tyne Bridge: A167 Gateshead Side',\n",
    "        'PER_AIRMON_MONITOR914': 'Gosforth: Gosforth Street - Salters Road',\n",
    "        'PER_AIRMON_MONITOR1155100': 'Four Lane Ends: Front Street - Benton Road',\n",
    "        'PER_AIRMON_MONITOR1135100': 'Central Newcastle: Pilgrim Street - Hood Street'\n",
    "        }\n",
    "\n",
    "## Key Variables - easy to add more plots\n",
    "variables = ['NO2','PM2.5','PM10']"
   ]
  },
  {
   "cell_type": "code",
   "execution_count": null,
   "metadata": {},
   "outputs": [],
   "source": [
    "for s in sensorList:\n",
    "    mainTitle = friendlyNames[s]\n",
    "    ## Update filepath\n",
    "    recentData = pd.read_pickle('C:/Covid_Baseline/recent_aq_'+s+'.pkl')\n",
    "\n",
    "    recentData = recentData[recentData[\"Flagged as Suspect Reading\"]==False]\n",
    "    recentData.loc[:,\"Weekday\"] = pd.to_datetime(recentData['Timestamp']).dt.weekday\n",
    "    recentData.loc[:,\"Hour\"] = pd.to_datetime(recentData['Timestamp']).dt.hour\n",
    "    recentData.drop(columns=['Flagged as Suspect Reading','Location (WKT)','Ground Height Above Sea Level',\n",
    "                            'Sensor Height Above Ground','Broker Name','Third Party','Sensor Centroid Longitude',\n",
    "                            'Sensor Centroid Latitude','Raw ID'], axis=1, inplace=True)\n",
    "    \n",
    "    nrows = len(variables)\n",
    "    fig, axs = plt.subplots(nrows,1, figsize=(30,30))\n",
    "    row=0\n",
    "    \n",
    "    for v in variables:\n",
    "        ## Update filepath\n",
    "        dfBaseTemp = pd.read_pickle('C:/Covid_Baseline/baseline_aq_'+s+'_'+v+'.pkl')\n",
    "        \n",
    "        dfCovidTemp = recentData[recentData[\"Variable\"]==v]\n",
    "        dfCovidTemp.drop(columns=['Sensor Name','Variable','Units','Timestamp'], axis=1, inplace=True)\n",
    "        \n",
    "        # Aggregate Covid Data\n",
    "        aggregateColumns = ['Weekday', 'Hour']\n",
    "        dfCovidMean = dfCovidTemp.groupby(aggregateColumns, group_keys=False, as_index=False).median()\n",
    "        dfCovidLQ = dfCovidTemp.groupby(aggregateColumns, group_keys=False, as_index=False).quantile(.15)\n",
    "        dfCovidHQ = dfCovidTemp.groupby(aggregateColumns, group_keys=False, as_index=False).quantile(.85)\n",
    "        \n",
    "        plt.axes(axs[row])\n",
    "        plt.title(mainTitle + ' : ' + v, fontsize=23)\n",
    "        plt.xlim(0,167)\n",
    "        plt.xlabel('Day/Hour', fontsize=18)\n",
    "        plt.xticks(ticks=[0,12,24,36,48,60,72,84,96,108,120,132,144,156,168], \n",
    "                   labels=['Mon 00','Mon 12','Tues 00','Tues 12','Wed 00','Wed 12','Thurs 00','Thurs 12',\n",
    "                           'Fri 00','Fri 12','Sat 00','Sat 12','Sun 00','Sun 12'], fontsize=16)\n",
    "\n",
    "        plt.ylabel(v, fontsize=18)\n",
    "        plt.plot(dfBaseTemp[\"Mean\"], color = \"darkred\",label=\"Baseline Median (Nov-Feb)\")\n",
    "        plt.plot(dfBaseTemp[\"LQ\"], color = \"salmon\",linestyle='dashed',label=\"Baseline P15-P85 (Nov-Feb)\")\n",
    "        plt.plot(dfBaseTemp[\"HQ\"], color = \"salmon\",linestyle='dashed')\n",
    "        plt.plot(dfCovidMean[\"Value\"], color = \"navy\",label=\"Post 16th March Median\")\n",
    "        plt.plot(dfCovidLQ[\"Value\"], color = \"skyblue\",linestyle='dashed',label=\"Post 16th March P15-P85 (Nov-Feb)\")\n",
    "        plt.plot(dfCovidHQ[\"Value\"], color = \"skyblue\",linestyle='dashed')\n",
    "        \n",
    "        plt.legend(loc=\"upper right\",fontsize=18)\n",
    "    \n",
    "        row = row+1\n",
    "         \n",
    "    fig.tight_layout()\n",
    "    ## Update filepath\n",
    "    plt.savefig('C:/Covid_Baseline/Images/'+s+'_TS.png')\n",
    "    plt.clf()"
   ]
  }
 ],
 "metadata": {
  "kernelspec": {
   "display_name": "Python 3",
   "language": "python",
   "name": "python3"
  },
  "language_info": {
   "codemirror_mode": {
    "name": "ipython",
    "version": 3
   },
   "file_extension": ".py",
   "mimetype": "text/x-python",
   "name": "python",
   "nbconvert_exporter": "python",
   "pygments_lexer": "ipython3",
   "version": "3.7.6"
  }
 },
 "nbformat": 4,
 "nbformat_minor": 4
}
