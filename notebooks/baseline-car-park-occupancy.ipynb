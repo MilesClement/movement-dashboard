{
 "cells": [
  {
   "cell_type": "code",
   "execution_count": null,
   "metadata": {
    "colab": {},
    "colab_type": "code",
    "id": "vga1znuak7QB"
   },
   "outputs": [],
   "source": [
    "import pandas as pd\n",
    "import numpy as np\n",
    "import json\n",
    "import math\n",
    "import urllib.request\n",
    "import dateutil.parser\n",
    "import dateutil.rrule\n",
    "import datetime\n",
    "import pickle\n",
    "import gc"
   ]
  },
  {
   "cell_type": "code",
   "execution_count": null,
   "metadata": {
    "colab": {},
    "colab_type": "code",
    "id": "44C0MsGOKSKn"
   },
   "outputs": [],
   "source": [
    "# Used across all of the plots\n",
    "dateToday = datetime.datetime.combine(datetime.date.today(), datetime.datetime.min.time())\n",
    "\n",
    "# Levels would have been relatively normal up until Friday 13 March, so take a year before that date\n",
    "baselineEnd = datetime.datetime.strptime('2020-03-13T23:59:59Z', '%Y-%m-%dT%H:%M:%SZ')\n",
    "baselineStart = baselineEnd - pd.Timedelta(days=365) + pd.Timedelta(seconds=1)\n",
    "\n",
    "print('Baseline data from %s to %s' % (baselineStart, baselineEnd))\n",
    "\n",
    "resampleFrequency = 900"
   ]
  },
  {
   "cell_type": "code",
   "execution_count": null,
   "metadata": {
    "colab": {
     "base_uri": "https://localhost:8080/",
     "height": 946
    },
    "colab_type": "code",
    "id": "GNidLPlDTvHE",
    "outputId": "6e702db4-5a86-4d29-d996-7b4c5588197d"
   },
   "outputs": [],
   "source": [
    "carParkRequestBase = 'https://api.newcastle.urbanobservatory.ac.uk/api/v2/sensors/entity'\n",
    "\n",
    "# Fetch a list of all the car parks...\n",
    "carParkTimeseriesIRIs = {}\n",
    "carParkMetadata = {}\n",
    "carParkRequestPage = 1\n",
    "carParkResponse = None\n",
    "\n",
    "while carParkResponse is None or len(carParkResponse) > 1:\n",
    "    carParkResponse = json.loads(\n",
    "        urllib.request.urlopen(\n",
    "            '%s?metric=\"Occupied%%20spaces\"&page=%u' % (carParkRequestBase, carParkRequestPage)\n",
    "        ).read().decode('utf-8')\n",
    "    )['items']\n",
    "\n",
    "    carParkRequestPage = carParkRequestPage + 1\n",
    "\n",
    "    for carPark in carParkResponse:\n",
    "        for feed in carPark['feed']:\n",
    "            for timeseries in feed['timeseries']:\n",
    "                for link in timeseries['links']:\n",
    "                    if (link['rel'] == 'archives.friendly' and \\\n",
    "                        'latest' in timeseries):\n",
    "                        carParkTimeseriesIRIs[carPark['meta']['name']] = link['href']\n",
    "                        carParkMetadata[carPark['meta']['name']] = {\n",
    "                            'address': carPark['meta']['address'],\n",
    "                            'postcode': carPark['meta']['address'].split(',')[-1].strip(),\n",
    "                            'district': carPark['meta']['address'].split(',')[-1].strip().split(' ')[0],\n",
    "                            'capacity': feed['meta']['totalSpaces'],\n",
    "                            'latest': timeseries['latest']['value']\n",
    "                        }\n",
    "\n",
    "print('Discovered %u car parks with occupancy data.' % len(carParkTimeseriesIRIs))\n",
    "\n",
    "carParkMetadata = pd.DataFrame.from_records(carParkMetadata).transpose()\n",
    "carParkMetadata"
   ]
  },
  {
   "cell_type": "code",
   "execution_count": null,
   "metadata": {
    "colab": {
     "base_uri": "https://localhost:8080/",
     "height": 1000
    },
    "colab_type": "code",
    "id": "Thc15ixbUgH3",
    "outputId": "8473b2e5-50e3-45ff-8542-8f2f2c1093e7"
   },
   "outputs": [],
   "source": [
    "daysPerRequest = 37\n",
    "dfCarParks = None\n",
    "\n",
    "print('Requesting car park occupancy in %u day chunks...' % daysPerRequest)\n",
    "\n",
    "for carParkName in carParkTimeseriesIRIs.keys():\n",
    "    carParkRequestTimeseries = carParkTimeseriesIRIs[carParkName]\n",
    "    carParkTimeseries = []\n",
    "\n",
    "    print('  %s' % carParkName)\n",
    "    print('  [', end='')\n",
    "\n",
    "    for windowStart in dateutil.rrule.rrule(\n",
    "        dateutil.rrule.DAILY,\n",
    "        interval=daysPerRequest,\n",
    "        dtstart=baselineStart,\n",
    "        until=baselineEnd\n",
    "    ):\n",
    "        windowEnd = windowStart + pd.Timedelta(days=daysPerRequest) - pd.Timedelta(seconds=1)\n",
    "\n",
    "        if windowEnd > baselineEnd:\n",
    "            windowEnd = baselineEnd\n",
    "            \n",
    "        windowResponse = json.loads(\n",
    "            urllib.request.urlopen(\n",
    "              '%s?startTime=%s&endTime=%s' % (carParkRequestTimeseries, windowStart.isoformat().replace('+00:00', 'Z'), windowEnd.isoformat().replace('+00:00', 'Z'))\n",
    "            ).read().decode('utf-8')\n",
    "        )['historic']['values']\n",
    "\n",
    "        carParkTimeseries.extend(windowResponse)\n",
    "        print('.', end='')\n",
    "\n",
    "    print(']')\n",
    "\n",
    "    # Duration isn't relevant to the car park data\n",
    "    dfCP = pd.DataFrame.from_records(carParkTimeseries, exclude=['duration'])\n",
    "\n",
    "    # Times in this API are in ISO8601\n",
    "    dfCP['time'] = dfCP['time'].apply(lambda t: datetime.datetime.strptime(t, \"%Y-%m-%dT%H:%M:%S.%fZ\"))\n",
    "\n",
    "    dfCP = dfCP.rename(columns={'value': carParkName})\n",
    "    dfCP.set_index('time', inplace=True, drop=True)\n",
    "\n",
    "    dfCP = dfCP.resample('%us' % resampleFrequency).median().fillna(method='ffill', limit=12)\n",
    "\n",
    "    if dfCarParks is None:\n",
    "        dfCarParks = dfCP\n",
    "    else:\n",
    "        dfCarParks = dfCarParks.join(dfCP, how='outer')\n",
    "\n",
    "    gc.collect()\n",
    "\n",
    "dfCarParks\n"
   ]
  },
  {
   "cell_type": "code",
   "execution_count": null,
   "metadata": {},
   "outputs": [],
   "source": [
    "dfCarParks.to_pickle('cache/baseline-car-park-occupancy-pd.pkl')"
   ]
  },
  {
   "cell_type": "code",
   "execution_count": null,
   "metadata": {},
   "outputs": [],
   "source": []
  }
 ],
 "metadata": {
  "kernelspec": {
   "display_name": "Python 3",
   "language": "python",
   "name": "python3"
  },
  "language_info": {
   "codemirror_mode": {
    "name": "ipython",
    "version": 3
   },
   "file_extension": ".py",
   "mimetype": "text/x-python",
   "name": "python",
   "nbconvert_exporter": "python",
   "pygments_lexer": "ipython3",
   "version": "3.7.6"
  }
 },
 "nbformat": 4,
 "nbformat_minor": 4
}
