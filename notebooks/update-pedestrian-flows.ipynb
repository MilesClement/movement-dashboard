{
 "cells": [
  {
   "cell_type": "code",
   "execution_count": 16,
   "metadata": {},
   "outputs": [],
   "source": [
    "import pandas as pd\n",
    "import numpy as np\n",
    "import json\n",
    "import math\n",
    "import pickle\n",
    "import urllib.request\n",
    "import dateutil.parser\n",
    "import dateutil.rrule\n",
    "import datetime\n",
    "import sys\n",
    "import gc\n",
    "import re"
   ]
  },
  {
   "cell_type": "code",
   "execution_count": 17,
   "metadata": {},
   "outputs": [],
   "source": [
    "dateToday = datetime.datetime.combine(datetime.date.today(), datetime.datetime.min.time())\n",
    "\n",
    "# Load in baseline data that's obtained month-by-month in the baseline data script\n",
    "peopleDataRaw = pickle.load(open('cache/baseline-pedestrian-flow-api-json.pkl', 'rb'))"
   ]
  },
  {
   "cell_type": "code",
   "execution_count": 18,
   "metadata": {},
   "outputs": [
    {
     "name": "stdout",
     "output_type": "stream",
     "text": [
      "Using baseline profile data for each cross line from 2019-03-15 00:00:06 until 2020-03-13 23:55:00\n"
     ]
    }
   ],
   "source": [
    "peopleDataRequestSince = 0\n",
    "peopleDataBaselineStart = sys.maxsize\n",
    "\n",
    "for sensor in peopleDataRaw:\n",
    "    for variable in sensor['data']:\n",
    "        for record in sensor['data'][variable]:\n",
    "            if record['Timestamp'] > peopleDataRequestSince:\n",
    "                peopleDataRequestSince = record['Timestamp']\n",
    "            if record['Timestamp'] < peopleDataBaselineStart:\n",
    "                peopleDataBaselineStart = record['Timestamp']\n",
    "            \n",
    "peopleDataRequestSince = datetime.datetime.fromtimestamp(peopleDataRequestSince / 1000)\n",
    "peopleDataBaselineStart = datetime.datetime.fromtimestamp(peopleDataBaselineStart / 1000)\n",
    "\n",
    "print('Using baseline profile data for each cross line from %s until %s' % (peopleDataBaselineStart, peopleDataRequestSince))"
   ]
  },
  {
   "cell_type": "code",
   "execution_count": 19,
   "metadata": {
    "colab": {},
    "colab_type": "code",
    "id": "s4KbF-AAk7QH"
   },
   "outputs": [
    {
     "name": "stdout",
     "output_type": "stream",
     "text": [
      "Loading recent data...\n",
      "  Found 1554 recent observations and 95525 baseline observations for Walking South on PER_PEOPLE_NORTHUMERLAND_LINE_LONG_DISTANCE_HEAD_0\n",
      "  Found 1554 recent observations and 95525 baseline observations for Walking North on PER_PEOPLE_NORTHUMERLAND_LINE_LONG_DISTANCE_HEAD_0\n",
      "  Found 429 recent observations and 32080 baseline observations for Walking East on PER_PEOPLE_BLACKETT-NORTHUMBERLAND-W\n",
      "  Found 429 recent observations and 32080 baseline observations for Walking West on PER_PEOPLE_BLACKETT-NORTHUMBERLAND-W\n",
      "  Found 1554 recent observations and 95524 baseline observations for Walking South on PER_PEOPLE_NORTHUMERLAND_LINE_LONG_DISTANCE_HEAD_1\n",
      "  Found 1554 recent observations and 95524 baseline observations for Walking North on PER_PEOPLE_NORTHUMERLAND_LINE_LONG_DISTANCE_HEAD_1\n",
      "  Found 1554 recent observations and 95791 baseline observations for Walking South on PER_PEOPLE_NORTHUMERLAND_LINE_MID_DISTANCE_HEAD_0\n",
      "  Found 1554 recent observations and 95791 baseline observations for Walking North on PER_PEOPLE_NORTHUMERLAND_LINE_MID_DISTANCE_HEAD_0\n",
      "  Found 1133 recent observations and 74638 baseline observations for Walking East on PER_PEOPLE_USB_LINE_0\n",
      "  Found 1133 recent observations and 74638 baseline observations for Walking West on PER_PEOPLE_USB_LINE_0\n",
      "  Found 1554 recent observations and 95714 baseline observations for Walking South on PER_PEOPLE_NORTHUMERLAND_LINE_SHORT_DISTANCE_HEAD_2\n",
      "  Found 1554 recent observations and 95714 baseline observations for Walking North on PER_PEOPLE_NORTHUMERLAND_LINE_SHORT_DISTANCE_HEAD_2\n",
      "  Found 1554 recent observations and 95713 baseline observations for Walking South on PER_PEOPLE_NORTHUMERLAND_LINE_SHORT_DISTANCE_HEAD_6\n",
      "  Found 1554 recent observations and 95713 baseline observations for Walking North on PER_PEOPLE_NORTHUMERLAND_LINE_SHORT_DISTANCE_HEAD_6\n",
      "  Found 1554 recent observations and 95713 baseline observations for Walking South on PER_PEOPLE_NORTHUMERLAND_LINE_SHORT_DISTANCE_HEAD_0\n",
      "  Found 1554 recent observations and 95713 baseline observations for Walking North on PER_PEOPLE_NORTHUMERLAND_LINE_SHORT_DISTANCE_HEAD_0\n",
      "  Found 425 recent observations and 30937 baseline observations for Walking West on PER_PEOPLE_BLACKETT-BOOTS\n",
      "  Found 425 recent observations and 30937 baseline observations for Walking East on PER_PEOPLE_BLACKETT-BOOTS\n",
      "  Found 1554 recent observations and 95713 baseline observations for Walking East on PER_PEOPLE_NORTHUMERLAND_LINE_SHORT_DISTANCE_HEAD_1\n",
      "  Found 1554 recent observations and 95713 baseline observations for Walking West on PER_PEOPLE_NORTHUMERLAND_LINE_SHORT_DISTANCE_HEAD_1\n",
      "  Found 1554 recent observations and 95713 baseline observations for Walking South on PER_PEOPLE_NORTHUMERLAND_LINE_SHORT_DISTANCE_HEAD_4\n",
      "  Found 1554 recent observations and 95713 baseline observations for Walking North on PER_PEOPLE_NORTHUMERLAND_LINE_SHORT_DISTANCE_HEAD_4\n",
      "  Found 1554 recent observations and 95713 baseline observations for Walking South on PER_PEOPLE_NORTHUMERLAND_LINE_SHORT_DISTANCE_HEAD_3\n",
      "  Found 1554 recent observations and 95713 baseline observations for Walking North on PER_PEOPLE_NORTHUMERLAND_LINE_SHORT_DISTANCE_HEAD_3\n",
      "  Found 1554 recent observations and 95713 baseline observations for Walking South on PER_PEOPLE_NORTHUMERLAND_LINE_SHORT_DISTANCE_HEAD_5\n",
      "  Found 1554 recent observations and 95713 baseline observations for Walking North on PER_PEOPLE_NORTHUMERLAND_LINE_SHORT_DISTANCE_HEAD_5\n"
     ]
    }
   ],
   "source": [
    "# Add to the baseline data the most recent data\n",
    "peopleRequestBase = 'https://newcastle.urbanobservatory.ac.uk/api/v1.1/sensors/data/json/'\n",
    "peopleRequestVariables = [\n",
    "    'Walking North East',\n",
    "    'Walking North West',\n",
    "    'Walking South East',\n",
    "    'Walking North',\n",
    "    'Walking South',\n",
    "    'Walking East',\n",
    "    'Walking West'\n",
    "]\n",
    "peopleRequestIRI = ('%s?variable=%s&starttime=%s&endtime=%s') % (\n",
    "    peopleRequestBase,\n",
    "    ','.join(str(x).replace(' ', '%20') for x in peopleRequestVariables),\n",
    "    (peopleDataRequestSince + pd.Timedelta(seconds=1)).strftime('%Y%m%d%H%M%S'),\n",
    "    (dateToday + pd.Timedelta(days=1.5)).strftime('%Y%m%d%H%M%S')\n",
    ")\n",
    "\n",
    "print('Loading recent data...')\n",
    "peopleDataWindow = json.loads(\n",
    "  urllib\n",
    "    .request\n",
    "    .urlopen(peopleRequestIRI)\n",
    "    .read()\n",
    "    .decode('utf-8')\n",
    ")['sensors']\n",
    "\n",
    "for sensor in peopleDataWindow:\n",
    "    for variable in sensor['data']:\n",
    "        targetSensor = next(s for s in peopleDataRaw if s['Sensor Name'] == sensor['Sensor Name'])\n",
    "\n",
    "        if variable not in targetSensor['data']:\n",
    "            continue\n",
    "\n",
    "        targetVariable = targetSensor['data'][variable]\n",
    "\n",
    "        print('  Found %u recent observations and %u baseline observations for %s on %s' % (\n",
    "            len(sensor['data'][variable]),\n",
    "            len(targetSensor['data'][variable]),\n",
    "            variable,\n",
    "            targetSensor['Sensor Name']['0']\n",
    "        ))\n",
    "\n",
    "        targetVariable.extend(sensor['data'][variable])"
   ]
  },
  {
   "cell_type": "code",
   "execution_count": 20,
   "metadata": {
    "colab": {
     "base_uri": "https://localhost:8080/",
     "height": 35
    },
    "colab_type": "code",
    "id": "l9Nx_ycUk7QL",
    "outputId": "f76d8670-72f5-48d9-cbf4-10aa020bf970"
   },
   "outputs": [
    {
     "name": "stdout",
     "output_type": "stream",
     "text": [
      "Obtained data from 15 sensors.\n"
     ]
    }
   ],
   "source": [
    "print('Obtained data from %u sensors.' % len(peopleDataRaw))"
   ]
  },
  {
   "cell_type": "code",
   "execution_count": 21,
   "metadata": {
    "colab": {},
    "colab_type": "code",
    "id": "HzcX6srAgiFf"
   },
   "outputs": [],
   "source": [
    "# Number of seconds to resample the pedestrian data to for all subsequent processing\n",
    "peopleCountInterval = 900"
   ]
  },
  {
   "cell_type": "code",
   "execution_count": 22,
   "metadata": {
    "colab": {
     "base_uri": "https://localhost:8080/",
     "height": 293
    },
    "colab_type": "code",
    "id": "nO0LAq5ek7QQ",
    "outputId": "a36727bb-0a32-4ae4-98b6-1ae2693f7ee6"
   },
   "outputs": [
    {
     "name": "stdout",
     "output_type": "stream",
     "text": [
      "Data from \"Northumberland St near TK Maxx\" camera has been resampled to 900 second intervals.\n",
      "No data available from \"Blue Star Square at Newcastle Helix (west side)\" camera.\n",
      "Data from \"John Dobson St (east side) pavement near The Stack\" camera has been resampled to 900 second intervals.\n",
      "Data from \"Science Square at Newcastle Helix\" camera has been resampled to 900 second intervals.\n",
      "Data from \"New Bridge St West crossing John Dobson St to Northumberland St (east side)\" camera has been resampled to 900 second intervals.\n",
      "Data from \"Northumberland St near Fenwick (west side)\" camera has been resampled to 900 second intervals.\n",
      "No data available from \"Blue Star Square at Newcastle Helix (east side)\" camera.\n",
      "Data from \"John Dobson St (west side) pavement near Goldsmiths\" camera has been resampled to 900 second intervals.\n",
      "Data from \"Northumberland St near Fenwick (east side)\" camera has been resampled to 900 second intervals.\n",
      "Data from \"John Dobson St crossing island between Blackett St and New Bridge St West\" camera has been resampled to 900 second intervals.\n",
      "Data from \"Pavement (south side) corner John Dobson St and New Bridge St West\" camera has been resampled to 900 second intervals.\n",
      "Data from \"Pavement (south side) corner John Dobson St and Blackett St\" camera has been resampled to 900 second intervals.\n",
      "Data from \"Blackett St crossing from John Dobson St to Northumberland St (west side)\" camera has been resampled to 900 second intervals.\n"
     ]
    }
   ],
   "source": [
    "cameraFriendlyNames = {\n",
    "    #'PER_PEOPLE_BLACKETT-NORTHUMBERLAND-W': 'Blackett St pavement (north side) outside Rox',\n",
    "    #'PER_PEOPLE_BLACKETT-BOOTS': 'Blackett St outside Boots',\n",
    "    'PER_PEOPLE_THE_CORE_LINE_0': 'Blue Star Square at Newcastle Helix (east side)',\n",
    "    'PER_PEOPLE_THE_CORE_LINE_1': 'Blue Star Square at Newcastle Helix (west side)',\n",
    "    'PER_PEOPLE_USB_LINE_0': 'Science Square at Newcastle Helix',\n",
    "    'PER_PEOPLE_NORTHUMERLAND_LINE_LONG_DISTANCE_HEAD_0': 'Northumberland St near Fenwick (west side)',\n",
    "    'PER_PEOPLE_NORTHUMERLAND_LINE_LONG_DISTANCE_HEAD_1': 'Northumberland St near Fenwick (east side)',\n",
    "    'PER_PEOPLE_NORTHUMERLAND_LINE_MID_DISTANCE_HEAD_0': 'Northumberland St near TK Maxx',\n",
    "    'PER_PEOPLE_NORTHUMERLAND_LINE_SHORT_DISTANCE_HEAD_0': 'John Dobson St (west side) pavement near Goldsmiths',\n",
    "    'PER_PEOPLE_NORTHUMERLAND_LINE_SHORT_DISTANCE_HEAD_1': 'John Dobson St crossing island between Blackett St and New Bridge St West',\n",
    "    'PER_PEOPLE_NORTHUMERLAND_LINE_SHORT_DISTANCE_HEAD_2': 'John Dobson St (east side) pavement near The Stack',\n",
    "    'PER_PEOPLE_NORTHUMERLAND_LINE_SHORT_DISTANCE_HEAD_3': 'Pavement (south side) corner John Dobson St and Blackett St',\n",
    "    'PER_PEOPLE_NORTHUMERLAND_LINE_SHORT_DISTANCE_HEAD_4': 'Pavement (south side) corner John Dobson St and New Bridge St West',\n",
    "    'PER_PEOPLE_NORTHUMERLAND_LINE_SHORT_DISTANCE_HEAD_5': 'Blackett St crossing from John Dobson St to Northumberland St (west side)',\n",
    "    'PER_PEOPLE_NORTHUMERLAND_LINE_SHORT_DISTANCE_HEAD_6': 'New Bridge St West crossing John Dobson St to Northumberland St (east side)'\n",
    "}\n",
    "\n",
    "peopleCountFrames = {}\n",
    "\n",
    "for sensor in peopleDataRaw:\n",
    "    dfSensor = None\n",
    "    \n",
    "    if sensor['Sensor Name']['0'] not in cameraFriendlyNames:\n",
    "        continue\n",
    "        \n",
    "    cameraName = cameraFriendlyNames[sensor['Sensor Name']['0']]\n",
    "    \n",
    "    for variable in sensor['data'].keys():\n",
    "        # Skip vehicle counts or bus data\n",
    "        if 'Walking' not in variable:\n",
    "            continue\n",
    "        \n",
    "        # Ignore everything but the timestamp and the value\n",
    "        dfPeopleTs = pd.DataFrame.from_records(sensor['data'][variable], columns=['Timestamp', 'Value'])\n",
    "        \n",
    "        # Timestamps are milliseconds since 1970 (epoch), so convert them to proper timestamps\n",
    "        dfPeopleTs['Timestamp'] = (dfPeopleTs['Timestamp'].astype(int) / 1000).apply(datetime.datetime.fromtimestamp)\n",
    "        \n",
    "        dfPeopleTs = dfPeopleTs.rename(columns={'Value': variable})\n",
    "        dfPeopleTs.set_index('Timestamp', inplace=True, drop=True)\n",
    "        \n",
    "        if dfSensor is None:\n",
    "            dfSensor = dfPeopleTs\n",
    "        else:\n",
    "            dfSensor = dfSensor.join(dfPeopleTs)\n",
    "    \n",
    "    if dfSensor is None:\n",
    "        print('No data available from \"%s\" camera.' % cameraName)\n",
    "        continue\n",
    "    else:\n",
    "        print('Data from \"%s\" camera has been resampled to %u second intervals.' % (cameraName, peopleCountInterval))\n",
    "    \n",
    "    dfSensor = dfSensor.resample('%us' % peopleCountInterval).apply(lambda x: np.sum(x.values))\n",
    "    peopleCountFrames[cameraName] = dfSensor\n",
    "    \n",
    "peopleDataRaw = None\n",
    "gc.collect() ;"
   ]
  },
  {
   "cell_type": "code",
   "execution_count": 23,
   "metadata": {
    "colab": {
     "base_uri": "https://localhost:8080/",
     "height": 413
    },
    "colab_type": "code",
    "id": "aJJTM4phk7QT",
    "outputId": "86424c66-8454-40d3-ad63-87c3393493d5"
   },
   "outputs": [
    {
     "name": "stdout",
     "output_type": "stream",
     "text": [
      "Northumberland St near TK Maxx\n"
     ]
    },
    {
     "data": {
      "text/html": [
       "<div>\n",
       "<style scoped>\n",
       "    .dataframe tbody tr th:only-of-type {\n",
       "        vertical-align: middle;\n",
       "    }\n",
       "\n",
       "    .dataframe tbody tr th {\n",
       "        vertical-align: top;\n",
       "    }\n",
       "\n",
       "    .dataframe thead th {\n",
       "        text-align: right;\n",
       "    }\n",
       "</style>\n",
       "<table border=\"1\" class=\"dataframe\">\n",
       "  <thead>\n",
       "    <tr style=\"text-align: right;\">\n",
       "      <th></th>\n",
       "      <th>Walking North</th>\n",
       "      <th>Walking South</th>\n",
       "    </tr>\n",
       "    <tr>\n",
       "      <th>Timestamp</th>\n",
       "      <th></th>\n",
       "      <th></th>\n",
       "    </tr>\n",
       "  </thead>\n",
       "  <tbody>\n",
       "    <tr>\n",
       "      <th>2019-03-15 00:00:00</th>\n",
       "      <td>14.0</td>\n",
       "      <td>34.0</td>\n",
       "    </tr>\n",
       "    <tr>\n",
       "      <th>2019-03-15 00:15:00</th>\n",
       "      <td>50.0</td>\n",
       "      <td>64.0</td>\n",
       "    </tr>\n",
       "    <tr>\n",
       "      <th>2019-03-15 00:30:00</th>\n",
       "      <td>25.0</td>\n",
       "      <td>37.0</td>\n",
       "    </tr>\n",
       "    <tr>\n",
       "      <th>2019-03-15 00:45:00</th>\n",
       "      <td>44.0</td>\n",
       "      <td>26.0</td>\n",
       "    </tr>\n",
       "    <tr>\n",
       "      <th>2019-03-15 01:00:00</th>\n",
       "      <td>58.0</td>\n",
       "      <td>15.0</td>\n",
       "    </tr>\n",
       "    <tr>\n",
       "      <th>...</th>\n",
       "      <td>...</td>\n",
       "      <td>...</td>\n",
       "    </tr>\n",
       "    <tr>\n",
       "      <th>2020-03-19 08:15:00</th>\n",
       "      <td>168.0</td>\n",
       "      <td>123.0</td>\n",
       "    </tr>\n",
       "    <tr>\n",
       "      <th>2020-03-19 08:30:00</th>\n",
       "      <td>142.0</td>\n",
       "      <td>156.0</td>\n",
       "    </tr>\n",
       "    <tr>\n",
       "      <th>2020-03-19 08:45:00</th>\n",
       "      <td>191.0</td>\n",
       "      <td>153.0</td>\n",
       "    </tr>\n",
       "    <tr>\n",
       "      <th>2020-03-19 09:00:00</th>\n",
       "      <td>168.0</td>\n",
       "      <td>154.0</td>\n",
       "    </tr>\n",
       "    <tr>\n",
       "      <th>2020-03-19 09:15:00</th>\n",
       "      <td>181.0</td>\n",
       "      <td>174.0</td>\n",
       "    </tr>\n",
       "  </tbody>\n",
       "</table>\n",
       "<p>35558 rows × 2 columns</p>\n",
       "</div>"
      ],
      "text/plain": [
       "                     Walking North  Walking South\n",
       "Timestamp                                        \n",
       "2019-03-15 00:00:00           14.0           34.0\n",
       "2019-03-15 00:15:00           50.0           64.0\n",
       "2019-03-15 00:30:00           25.0           37.0\n",
       "2019-03-15 00:45:00           44.0           26.0\n",
       "2019-03-15 01:00:00           58.0           15.0\n",
       "...                            ...            ...\n",
       "2020-03-19 08:15:00          168.0          123.0\n",
       "2020-03-19 08:30:00          142.0          156.0\n",
       "2020-03-19 08:45:00          191.0          153.0\n",
       "2020-03-19 09:00:00          168.0          154.0\n",
       "2020-03-19 09:15:00          181.0          174.0\n",
       "\n",
       "[35558 rows x 2 columns]"
      ]
     },
     "execution_count": 23,
     "metadata": {},
     "output_type": "execute_result"
    }
   ],
   "source": [
    "# If you need to preview the data from one of the cameras...\n",
    "testCam = list(peopleCountFrames.keys())[0]\n",
    "print(testCam)\n",
    "peopleCountFrames[testCam]"
   ]
  },
  {
   "cell_type": "code",
   "execution_count": 24,
   "metadata": {
    "colab": {},
    "colab_type": "code",
    "id": "ExE5Ulih1KDJ"
   },
   "outputs": [
    {
     "data": {
      "text/plain": [
       "44"
      ]
     },
     "execution_count": 24,
     "metadata": {},
     "output_type": "execute_result"
    }
   ],
   "source": [
    "pickle.dump(peopleCountFrames, open('cache/recent-pedestrian-flows-pd.pkl', 'wb'))\n",
    "\n",
    "peopleCountFrames = None\n",
    "gc.collect()"
   ]
  },
  {
   "cell_type": "code",
   "execution_count": null,
   "metadata": {},
   "outputs": [],
   "source": []
  }
 ],
 "metadata": {
  "kernelspec": {
   "display_name": "Python 3",
   "language": "python",
   "name": "python3"
  },
  "language_info": {
   "codemirror_mode": {
    "name": "ipython",
    "version": 3
   },
   "file_extension": ".py",
   "mimetype": "text/x-python",
   "name": "python",
   "nbconvert_exporter": "python",
   "pygments_lexer": "ipython3",
   "version": "3.7.6"
  }
 },
 "nbformat": 4,
 "nbformat_minor": 4
}
