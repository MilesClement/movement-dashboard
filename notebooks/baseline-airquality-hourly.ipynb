{
 "cells": [
  {
   "cell_type": "code",
   "execution_count": 8,
   "metadata": {},
   "outputs": [],
   "source": [
    "import requests\n",
    "import pandas as pd\n",
    "import io\n",
    "import urllib.request\n",
    "import gc"
   ]
  },
  {
   "cell_type": "code",
   "execution_count": 9,
   "metadata": {},
   "outputs": [],
   "source": [
    "## Pull Details of all Precision Monitoring Stations\n",
    "r = requests.get('https://newcastle.urbanobservatory.ac.uk/api/v1.1/sensors/csv/?broker=aq_mesh_api&search=mon')\n",
    "sensorInfo = pd.read_csv(io.StringIO(r.text))\n",
    "sensorList = sensorInfo[\"Sensor Name\"].to_list()"
   ]
  },
  {
   "cell_type": "code",
   "execution_count": 10,
   "metadata": {},
   "outputs": [],
   "source": [
    "combBaseline = pd.DataFrame()"
   ]
  },
  {
   "cell_type": "code",
   "execution_count": 11,
   "metadata": {},
   "outputs": [],
   "source": [
    "for s in sensorList:\n",
    "    dataCall = 'https://newcastle.urbanobservatory.ac.uk/api/v1.1/sensors/'+s+'/data/csv/'\n",
    "    params = dict(\n",
    "            starttime='20191101',\n",
    "            endtime='20200301'\n",
    "        )\n",
    "    r = requests.get(dataCall,params)\n",
    "    ## Added in case any precision stations don't have data during the time frame specified\n",
    "    if r.status_code != 404:\n",
    "        sensorData = pd.read_csv(io.StringIO(r.text))\n",
    "        combBaseline = combBaseline.append(sensorData, ignore_index=True)"
   ]
  },
  {
   "cell_type": "code",
   "execution_count": 12,
   "metadata": {},
   "outputs": [
    {
     "data": {
      "text/plain": [
       "268"
      ]
     },
     "execution_count": 12,
     "metadata": {},
     "output_type": "execute_result"
    }
   ],
   "source": [
    "pd.to_pickle(combBaseline, '../cache/baseline-airquality-airmon-api.pkl')\n",
    "gc.collect()"
   ]
  }
 ],
 "metadata": {
  "kernelspec": {
   "display_name": "Python 3",
   "language": "python",
   "name": "python3"
  },
  "language_info": {
   "codemirror_mode": {
    "name": "ipython",
    "version": 3
   },
   "file_extension": ".py",
   "mimetype": "text/x-python",
   "name": "python",
   "nbconvert_exporter": "python",
   "pygments_lexer": "ipython3",
   "version": "3.7.6"
  }
 },
 "nbformat": 4,
 "nbformat_minor": 4
}
