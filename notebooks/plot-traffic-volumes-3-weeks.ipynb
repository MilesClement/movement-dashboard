{
 "cells": [
  {
   "cell_type": "code",
   "execution_count": null,
   "metadata": {
    "colab": {},
    "colab_type": "code",
    "id": "vga1znuak7QB"
   },
   "outputs": [],
   "source": [
    "import matplotlib\n",
    "import pandas as pd\n",
    "import numpy as np\n",
    "import json\n",
    "import math\n",
    "import urllib.request\n",
    "import dateutil.parser\n",
    "import dateutil.rrule\n",
    "import dateutil.tz\n",
    "import datetime\n",
    "import matplotlib.pyplot as plt\n",
    "import matplotlib.dates as mdates\n",
    "import gc\n",
    "from textwrap import wrap\n",
    "\n",
    "matplotlib.rcParams.update({\n",
    "    'font.size': 13,\n",
    "    'timezone': 'Europe/London',\n",
    "    'figure.max_open_warning': False\n",
    "})"
   ]
  },
  {
   "cell_type": "code",
   "execution_count": null,
   "metadata": {
    "colab": {},
    "colab_type": "code",
    "id": "44C0MsGOKSKn"
   },
   "outputs": [],
   "source": [
    "# Used across all of the plots\n",
    "tzLocal = dateutil.tz.gettz('Europe/London')\n",
    "dateToday = datetime.datetime.combine(datetime.date.today(), datetime.datetime.min.time()).replace(tzinfo=tzLocal)\n",
    "\n",
    "colourUp = '#f64a8a'\n",
    "colourDown = '#233067'\n",
    "\n",
    "resampleFrequency = 8 * 60"
   ]
  },
  {
   "cell_type": "markdown",
   "metadata": {
    "colab_type": "text",
    "id": "bG7Z52mXTrLw"
   },
   "source": [
    "# Traffic volumes across Tyne and Wear\n",
    "\n",
    "The data represents numberplates read using ANPR cameras. These are normally used to calculate journey times between two points on the road network, and in turn used to invoke traffic signal strategies or identify problems. No actual numberplate data was used by Newcastle University in preparing these statistics.\n",
    "\n",
    "Each journey time pair has been disaggregated to the start and end points representing individual cameras. The number of plates read by that camera is then used for these graphs.\n"
   ]
  },
  {
   "cell_type": "code",
   "execution_count": null,
   "metadata": {
    "colab": {
     "base_uri": "https://localhost:8080/",
     "height": 1000
    },
    "colab_type": "code",
    "id": "Thc15ixbUgH3",
    "outputId": "8473b2e5-50e3-45ff-8542-8f2f2c1093e7"
   },
   "outputs": [],
   "source": [
    "dfPointTs = pd.read_pickle('../cache/recent-traffic-volumes-pd.pkl')\n",
    "anprLinks = pd.read_pickle('../cache/recent-traffic-volumes-link-metadata-pd.pkl')\n",
    "anprPoints = pd.read_pickle('../cache/recent-traffic-volumes-point-metadata-pd.pkl')\n",
    "\n",
    "print('Last data obtained %s' \n",
    "    % (np.max(dfPointTs.index).strftime('%d %B %Y %H:%M')))\n",
    "\n",
    "#anprPoints"
   ]
  },
  {
   "cell_type": "code",
   "execution_count": null,
   "metadata": {
    "colab": {},
    "colab_type": "code",
    "id": "SJBuOs0rZLxd"
   },
   "outputs": [],
   "source": [
    "def plotTrafficVolumeTimeseries(historicCutOffDays=28):\n",
    "    # Changed to be 8 minute data instead of 15 minute data\n",
    "    dfTrafficRecent = dfPointTs[dfPointTs.index >= dateToday - pd.Timedelta(days=historicCutOffDays)] \\\n",
    "        .apply(lambda count: count / (resampleFrequency / 60))\n",
    "    \n",
    "    # Sometimes it has stupid numbers, presumably because of a comms drop on the ANPR camera?\n",
    "    dfTrafficRecent = dfTrafficRecent[dfTrafficRecent < 60]\n",
    "\n",
    "    groupIndex = -1\n",
    "    plotIndex = 0\n",
    "    plotHighway = None\n",
    "\n",
    "    sortedCameras = sorted(\n",
    "        dfTrafficRecent.columns,\n",
    "        key=lambda colName: anprPoints[anprPoints['timeseriesName'] == colName]['highwayDescription'].values[0]\n",
    "    )\n",
    "\n",
    "    for timeseriesName in sortedCameras:\n",
    "        pointMeta = anprPoints[anprPoints['timeseriesName'] == timeseriesName].to_dict(orient='records')[0]\n",
    "        \n",
    "        if pointMeta['highwayDescription'] != plotHighway:\n",
    "            # Start a new plot\n",
    "            plotHighway = pointMeta['highwayDescription']\n",
    "            pointsInSystem = list(anprPoints[anprPoints['highwayDescription'] == plotHighway]['timeseriesName'])\n",
    "            pointsWithData = list(filter(lambda p: p in dfTrafficRecent.columns, pointsInSystem))\n",
    "            pointsWithDataCount = len(pointsWithData)\n",
    "\n",
    "            fig, axs = plt.subplots(\n",
    "                pointsWithDataCount, 1,\n",
    "                figsize = (18, 1.5 * pointsWithDataCount + 0.75),\n",
    "                constrained_layout=True\n",
    "            )\n",
    "            \n",
    "            if pointsWithDataCount == 1:\n",
    "                axs = [axs]\n",
    "            \n",
    "            plotIndex = 0\n",
    "            groupIndex = groupIndex + 1\n",
    "        \n",
    "        ax = axs[plotIndex]\n",
    "        \n",
    "        ax.set_title(\n",
    "             ('%s\\n⇀ at %s (%s at %s)' % (\n",
    "                  pointMeta['highwayDescription'],\n",
    "                  pointMeta['pointDescription'].replace('(BUS)', ''),\n",
    "                  pointMeta['systemCodeNumber'],\n",
    "                  pointMeta['end']\n",
    "             )) if plotIndex == 0 else\n",
    "             ('⇀ at %s (%s at %s)' % (\n",
    "                  pointMeta['pointDescription'].replace('(BUS)', ''),\n",
    "                  pointMeta['systemCodeNumber'],\n",
    "                  pointMeta['end']\n",
    "             )),\n",
    "             loc='left',\n",
    "             fontdict={ 'horizontalalignment': 'left', 'fontsize': 12 }\n",
    "        )\n",
    "        ax.margins(x=0, y=0)\n",
    "\n",
    "        ax.fill_between(\n",
    "            dfTrafficRecent[timeseriesName].index,\n",
    "            dfTrafficRecent[timeseriesName],\n",
    "            color=colourDown,\n",
    "            where=dfTrafficRecent.index.to_series().apply(\n",
    "                 lambda t: t.strftime('%A') not in ['Saturday', 'Sunday']\n",
    "            ),\n",
    "            label='Vehicles per minute on weekdays'\n",
    "        )\n",
    "        ax.fill_between(\n",
    "            dfTrafficRecent[timeseriesName].index,\n",
    "            dfTrafficRecent[timeseriesName],\n",
    "            color=colourUp,\n",
    "            where=dfTrafficRecent.index.to_series().apply(\n",
    "                 lambda t: t.strftime('%A') in ['Saturday', 'Sunday']\n",
    "            ),\n",
    "            label='Vehicles per minute on weekend'\n",
    "        )\n",
    "\n",
    "        ax.xaxis.set_major_locator(mdates.WeekdayLocator(interval=1, byweekday=mdates.MO))\n",
    "        ax.xaxis.set_tick_params(which='major', pad=15)\n",
    "        ax.xaxis.set_minor_locator(mdates.DayLocator(interval=1))\n",
    "\n",
    "        if ax == axs[-1]:\n",
    "            ax.set_xlabel('Date')\n",
    "\n",
    "            if historicCutOffDays > 75:\n",
    "                timeLocatorMajor = mdates.AutoDateLocator(minticks=10, maxticks=30)\n",
    "                conciseZeroFormats = ['', '%Y', '%b', '%d-%b', '%H:%M', '%H:%M']\n",
    "                conciseOffsetFormats = ['', '%Y', '%b-%Y', '%d-%b-%Y-%b', '%d-%b-%Y', '%d-%b-%Y %H:%M']\n",
    "                ax.xaxis.set_tick_params(which='major', pad=0)\n",
    "                ax.xaxis.set_major_locator(timeLocatorMajor)\n",
    "                ax.xaxis.set_major_formatter(mdates.ConciseDateFormatter(locator=timeLocatorMajor, zero_formats=conciseZeroFormats, offset_formats=conciseOffsetFormats))\n",
    "            else:\n",
    "                dataFormatMajor = mdates.DateFormatter('%a %d %b')\n",
    "                ax.xaxis.set_major_formatter(dataFormatMajor)\n",
    "                ax.xaxis.set_minor_formatter(mdates.DateFormatter('%d'))\n",
    "        else:\n",
    "            ax.xaxis.set_ticklabels([]);\n",
    "\n",
    "        if ax == axs[0] and groupIndex == 0:\n",
    "            ax.legend(\n",
    "                loc='upper right',\n",
    "                ncol=2,\n",
    "                fontsize=11,\n",
    "                frameon=False,\n",
    "                bbox_to_anchor=(1.0, 1.35)\n",
    "            )\n",
    "\n",
    "        plotIndex = plotIndex + 1\n",
    "\n",
    "    #plt.tight_layout()\n",
    "    #fig.subplots_adjust(top=2.0)\n",
    "    plt.show()\n",
    "    \n",
    "    gc.collect()"
   ]
  },
  {
   "cell_type": "markdown",
   "metadata": {
    "colab_type": "text",
    "id": "GZAmz2CMfM3U"
   },
   "source": [
    "## Average vehicles per minute at ANPR points during last 3 weeks\n",
    "\n",
    "The below plot are vehicles per minute calculated from 15 minute windows."
   ]
  },
  {
   "cell_type": "code",
   "execution_count": null,
   "metadata": {
    "colab": {
     "base_uri": "https://localhost:8080/",
     "height": 1000
    },
    "colab_type": "code",
    "id": "pB6usV19jqT0",
    "outputId": "c6525798-3f3a-436b-cd1f-228e25a8f5d8"
   },
   "outputs": [],
   "source": [
    "# Continuous plot of areas for the last N days\n",
    "plotTrafficVolumeTimeseries(21)"
   ]
  },
  {
   "cell_type": "code",
   "execution_count": null,
   "metadata": {
    "colab": {},
    "colab_type": "code",
    "id": "J7cPsKUxukqL"
   },
   "outputs": [],
   "source": []
  }
 ],
 "metadata": {
  "colab": {
   "collapsed_sections": [],
   "name": "Recent car park occupancy.ipynb",
   "provenance": [],
   "toc_visible": true
  },
  "kernelspec": {
   "display_name": "Python 3",
   "language": "python",
   "name": "python3"
  },
  "language_info": {
   "codemirror_mode": {
    "name": "ipython",
    "version": 3
   },
   "file_extension": ".py",
   "mimetype": "text/x-python",
   "name": "python",
   "nbconvert_exporter": "python",
   "pygments_lexer": "ipython3",
   "version": "3.7.6"
  }
 },
 "nbformat": 4,
 "nbformat_minor": 4
}
