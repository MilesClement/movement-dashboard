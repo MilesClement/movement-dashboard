{
 "cells": [
  {
   "cell_type": "code",
   "execution_count": null,
   "metadata": {},
   "outputs": [],
   "source": [
    "import matplotlib\n",
    "import pandas as pd\n",
    "import numpy as np\n",
    "import json\n",
    "import math\n",
    "import pickle\n",
    "import urllib.request\n",
    "import dateutil.parser\n",
    "import dateutil.rrule\n",
    "import dateutil.tz\n",
    "import datetime\n",
    "import matplotlib.pyplot as plt\n",
    "import matplotlib.dates as mdates\n",
    "import sys\n",
    "import gc\n",
    "import re\n",
    "from IPython.display import display, HTML\n",
    "from textwrap import wrap\n",
    "\n",
    "matplotlib.rcParams.update({\n",
    "    'font.size': 13,\n",
    "    'timezone': 'Europe/London'\n",
    "})"
   ]
  },
  {
   "cell_type": "markdown",
   "metadata": {
    "colab_type": "text",
    "id": "thzg6zc8Fun1"
   },
   "source": [
    "## Each camera during the last 28 days"
   ]
  },
  {
   "cell_type": "code",
   "execution_count": null,
   "metadata": {},
   "outputs": [],
   "source": [
    "# Used across most of the plots for people flows\n",
    "# Used across most of the plots for people flows\n",
    "tzLocal = dateutil.tz.gettz('Europe/London')\n",
    "dateToday = datetime.datetime.combine(datetime.date.today(), datetime.datetime.min.time()).replace(tzinfo=tzLocal)\n",
    "peopleCountInterval = 900\n",
    "peopleCountFrames = pickle.load(open('../cache/recent-pedestrian-flows-pd.pkl', 'rb'))\n",
    "\n",
    "# TODO: Make this reflect the last entry in the frame, not the time now\n",
    "print('Last data obtained %s' \n",
    "    % (np.max(list(map(lambda f: np.max(f.index), peopleCountFrames.values()))).strftime('%d %B %Y %H:%M')))"
   ]
  },
  {
   "cell_type": "code",
   "execution_count": null,
   "metadata": {
    "colab": {},
    "colab_type": "code",
    "id": "ExE5Ulih1KDJ"
   },
   "outputs": [],
   "source": [
    "colourUp = '#f64a8a'\n",
    "colourDown = '#233067'\n",
    "# Ignore non-numeric columns in the dataframe\n",
    "plottableTypes = ['int16', 'int32', 'int64', 'float16', 'float32', 'float64']\n",
    "perMinuteFactor = (peopleCountInterval / 60)"
   ]
  },
  {
   "cell_type": "code",
   "execution_count": null,
   "metadata": {
    "colab": {
     "base_uri": "https://localhost:8080/",
     "height": 1000
    },
    "colab_type": "code",
    "id": "uJXIbG3tk7QX",
    "outputId": "57b217cf-3b5c-4bd3-accb-0710a8a75062"
   },
   "outputs": [],
   "source": [
    "historicCutOffDays = 28\n",
    "\n",
    "for sensorName in sorted(peopleCountFrames.keys()):\n",
    "    dfSensor = peopleCountFrames[sensorName]\n",
    "    dfSensor = dfSensor \\\n",
    "        [dfSensor.index >= dateToday - pd.Timedelta(days=historicCutOffDays)] \\\n",
    "        .copy()\n",
    "\n",
    "    # We may have data from the API, but nothing in the last N days, so don't attempt\n",
    "    # a graph\n",
    "    if np.all(np.isnan(dfSensor)):\n",
    "        continue\n",
    "\n",
    "    # Show the last two days of data as a larger area, so the detail is visible\n",
    "    axisBreak = datetime.datetime.now(tzLocal) - datetime.timedelta(days=2)\n",
    "\n",
    "    # People per minute for 'walking' columns\n",
    "    directionDataOld = [dfSensor[ : axisBreak][direction] / perMinuteFactor\n",
    "        for direction in dfSensor.select_dtypes(plottableTypes).columns]\n",
    "    directionDataRecent = [dfSensor[axisBreak : ][direction] / perMinuteFactor\n",
    "        for direction in dfSensor.select_dtypes(plottableTypes).columns]\n",
    "    directionLabels = [direction for direction in dfSensor.columns]\n",
    "\n",
    "    fig = plt.figure(figsize=(18,6.5))\n",
    "    gs = fig.add_gridspec(ncols=2, nrows=1, width_ratios=[3, 1])\n",
    "    ax = fig.add_subplot(gs[0, 0])\n",
    "    axRecent = fig.add_subplot(gs[0, 1])\n",
    "\n",
    "    fig.suptitle(sensorName)\n",
    "    ax.set_xlabel('Date')\n",
    "    axRecent.set_xlabel('Last 48 hours')\n",
    "    ax.set_ylabel('Pedestrians per minute')\n",
    "\n",
    "    for i in range(len(directionDataOld)):\n",
    "        ax.stackplot(\n",
    "          dfSensor[ : axisBreak].index, \n",
    "          np.zeros(len(directionDataOld[i])),\n",
    "          directionDataOld[i] * (-1 if i % 2 == 0 else +1),\n",
    "          colors=[colourUp] if i % 2 == 0 else [colourDown]\n",
    "        )\n",
    "        axRecent.stackplot(\n",
    "          dfSensor[axisBreak : ].index, \n",
    "          np.zeros(len(directionDataRecent[i])),\n",
    "          directionDataRecent[i] * (-1 if i % 2 == 0 else +1), \n",
    "          labels=[directionLabels[i]],\n",
    "          colors=[colourUp] if i % 2 == 0 else [colourDown]\n",
    "        )\n",
    "\n",
    "    yMax = np.max(1.0, np.max(np.amax(dfSensor.select_dtypes(plottableTypes) / perMinuteFactor, axis=None)))\n",
    "\n",
    "    if np.isnan(yMax):\n",
    "        continue\n",
    "\n",
    "    ax.set_xlim([np.min(dfSensor.index), axisBreak])\n",
    "    ax.set_ylim([-yMax, yMax])\n",
    "    ax.yaxis.set_major_formatter(plt.FuncFormatter(lambda y, pos: abs(y)))\n",
    "    axRecent.set_xlim([axisBreak, np.max(dfSensor.index)])\n",
    "    axRecent.set_ylim([-yMax, yMax])\n",
    "    axRecent.yaxis.tick_right()\n",
    "    axRecent.yaxis.set_major_formatter(plt.FuncFormatter(lambda y, pos: abs(y)))\n",
    "\n",
    "    dataFormatMajor = mdates.DateFormatter('%a %d %b')\n",
    "    ax.xaxis.set_major_locator(mdates.WeekdayLocator(interval=1, byweekday=mdates.MO))\n",
    "    ax.xaxis.set_major_formatter(dataFormatMajor)\n",
    "    ax.xaxis.set_tick_params(which='major', pad=15)\n",
    "    ax.margins(x=0)\n",
    "    axRecent.xaxis.set_major_locator(mdates.DayLocator(interval=1))\n",
    "    axRecent.xaxis.set_major_formatter(mdates.DateFormatter('%H\\n%d'))\n",
    "    axRecent.margins(x=0)\n",
    "\n",
    "    ax.xaxis.set_minor_locator(mdates.DayLocator(interval=1))\n",
    "    ax.xaxis.set_minor_formatter(mdates.DateFormatter('%d'))\n",
    "    axRecent.xaxis.set_minor_locator(mdates.HourLocator(byhour=[0, 6, 12, 18]))\n",
    "    axRecent.xaxis.set_minor_formatter(mdates.DateFormatter('%H'))\n",
    "\n",
    "    # Highlight areas with missing data or zero people counts\n",
    "    #dfGaps = np.any(dfSensor.resample('3600s').sum() == 0.0, axis=1)\n",
    "    #ax.fill_between(dfGaps.index, 0, ax.get_ylim()[1], where=dfGaps,\n",
    "    #            facecolor='grey', alpha=0.1)\n",
    "\n",
    "    ax.spines['right'].set_visible(False)\n",
    "    axRecent.spines['left'].set_visible(False)\n",
    "\n",
    "    fig.subplots_adjust(wspace=0.04)\n",
    "    axRecent.legend()\n",
    "    \n",
    "    plt.savefig(\n",
    "        '../output/pedestrian-flows_profile-28-days_%s.png' \n",
    "        % re.compile('[^a-z0-9]+').sub('-', sensorName.lower())\n",
    "    )\n"
   ]
  }
 ],
 "metadata": {
  "kernelspec": {
   "display_name": "Python 3",
   "language": "python",
   "name": "python3"
  },
  "language_info": {
   "codemirror_mode": {
    "name": "ipython",
    "version": 3
   },
   "file_extension": ".py",
   "mimetype": "text/x-python",
   "name": "python",
   "nbconvert_exporter": "python",
   "pygments_lexer": "ipython3",
   "version": "3.7.6"
  }
 },
 "nbformat": 4,
 "nbformat_minor": 4
}
