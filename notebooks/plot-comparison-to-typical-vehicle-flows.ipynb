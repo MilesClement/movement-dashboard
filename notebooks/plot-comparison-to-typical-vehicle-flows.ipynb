{
 "cells": [
  {
   "cell_type": "code",
   "execution_count": null,
   "metadata": {},
   "outputs": [],
   "source": [
    "import matplotlib\n",
    "import pandas as pd\n",
    "import numpy as np\n",
    "import pickle\n",
    "import urllib.request\n",
    "import dateutil.parser\n",
    "import dateutil.rrule\n",
    "import dateutil.tz\n",
    "import datetime\n",
    "import warnings\n",
    "import matplotlib.pyplot as plt\n",
    "import matplotlib.dates as mdates\n",
    "import matplotlib.ticker as mtick\n",
    "import math\n",
    "\n",
    "matplotlib.rcParams.update({\n",
    "    'font.size': 13,\n",
    "    'timezone': 'Europe/London',\n",
    "    'figure.max_open_warning': False\n",
    "})"
   ]
  },
  {
   "cell_type": "markdown",
   "metadata": {},
   "source": [
    "# Traffic volumes across Tyne and Wear against profile\n",
    "\n",
    "The below charts show the last four weeks of daily traffic profiles across the whole of Tyne and Wear. This is based on plate reads by the region's ANPR network, and is normalised against the normal peak daily vehicle flows (i.e. 100% is normal worst part of rush hour traffic)."
   ]
  },
  {
   "cell_type": "code",
   "execution_count": null,
   "metadata": {},
   "outputs": [],
   "source": [
    "tzUTC = dateutil.tz.gettz('UTC')\n",
    "tzLocal = dateutil.tz.gettz('Europe/London')\n",
    "govChartStart = datetime.datetime.strptime('2020-03-01T00:00:00Z', '%Y-%m-%dT%H:%M:%SZ').replace(tzinfo=tzLocal)\n",
    "pdTrafficTyneWear = pickle.load(open('../cache/recent-traffic-volumes-pd.pkl', 'rb'))\n",
    "\n",
    "resampleInterval = 60 * 8 # N minute data\n",
    "\n",
    "timezoneOffset = ((60 - np.min(pdTrafficTyneWear.index).time().minute) * 60) if np.min(pdTrafficTyneWear.index).time().minute > 0 else 0\n",
    "#print('Has %u second offset in resampling' % timezoneOffset)\n",
    "\n",
    "print('Last data obtained %s' \n",
    "    % (np.max(pdTrafficTyneWear.index).strftime('%d %B %Y %H:%M')))"
   ]
  },
  {
   "cell_type": "code",
   "execution_count": null,
   "metadata": {},
   "outputs": [],
   "source": [
    "# This should really be factoring in the number of observations too, as a per-camera count\n",
    "pdTrafficAllSum = pdTrafficTyneWear.resample('%us' % resampleInterval, closed='right', label='right').sum().sum(axis=1).to_frame().rename(columns={0: 'Total'})\n",
    "#pdTrafficAllSum.plot(figsize=(18, 8))\n",
    "#pdTrafficAllSum"
   ]
  },
  {
   "cell_type": "code",
   "execution_count": null,
   "metadata": {},
   "outputs": [],
   "source": [
    "#pdTrafficAllSum.plot(figsize=(18, 8))"
   ]
  },
  {
   "cell_type": "code",
   "execution_count": null,
   "metadata": {},
   "outputs": [],
   "source": [
    "dateToday = datetime.datetime.combine(datetime.date.today(), datetime.datetime.min.time()).replace(tzinfo=tzLocal)\n",
    "lastWeekStart = dateToday - pd.Timedelta(days=6)\n",
    "lastWeekEnd = dateToday + pd.Timedelta(hours=24)\n",
    "#print(dateToday)\n",
    "#print(lastWeekStart)\n",
    "#print(lastWeekEnd)"
   ]
  },
  {
   "cell_type": "code",
   "execution_count": null,
   "metadata": {},
   "outputs": [],
   "source": [
    "pdTrafficPreCV = pdTrafficAllSum[pdTrafficAllSum.index < govChartStart]\n",
    "pdTrafficPostCV = pdTrafficAllSum[(pdTrafficAllSum.index >= govChartStart) & (pdTrafficAllSum.index < np.max(pdTrafficAllSum.index) - pd.Timedelta(seconds=resampleInterval))]\n",
    "#pdTrafficPostCV"
   ]
  },
  {
   "cell_type": "code",
   "execution_count": null,
   "metadata": {},
   "outputs": [],
   "source": [
    "pdTrafficPreCV.insert(0, 'Day of week', pdTrafficPreCV.index.to_series().apply(lambda t: t.strftime('%A')))\n",
    "pdTrafficPreCV.insert(0, 'Time of day', pdTrafficPreCV.index.to_series().apply(lambda t: (t if bool(t.dst()) == False else (t - pd.Timedelta(seconds=timezoneOffset))).strftime('%H:%M:%S')))\n",
    "pdTrafficPreCVAverage = pdTrafficPreCV \\\n",
    "    .groupby(['Day of week', 'Time of day'], as_index=False) \\\n",
    "    .median()\n",
    "pdTrafficPreCVLowerQuantile = pdTrafficPreCV \\\n",
    "    .groupby(['Day of week', 'Time of day'], as_index=False) \\\n",
    "    .quantile(0.10)\n",
    "pdTrafficPreCVUpperQuantile = pdTrafficPreCV \\\n",
    "    .groupby(['Day of week', 'Time of day'], as_index=False) \\\n",
    "    .quantile(0.90)\n",
    "\n",
    "pdTrafficPostCV.insert(0, 'Day of week', pdTrafficPostCV.index.to_series().apply(lambda t: t.strftime('%A')))\n",
    "pdTrafficPostCV.insert(0, 'Time of day', pdTrafficPostCV.index.to_series().apply(lambda t: (t if bool(t.dst()) == False else (t - pd.Timedelta(seconds=timezoneOffset))).strftime('%H:%M:%S')))"
   ]
  },
  {
   "cell_type": "code",
   "execution_count": null,
   "metadata": {},
   "outputs": [],
   "source": [
    "#pdTrafficPreCV"
   ]
  },
  {
   "cell_type": "code",
   "execution_count": null,
   "metadata": {},
   "outputs": [],
   "source": [
    "# Give the proper order to the days in the last week\n",
    "weekDaysOrder = list(map(lambda daysAgo: (dateToday - pd.Timedelta(days=6) + pd.Timedelta(days=daysAgo)).strftime('%A'), list(range(0, 7))))\n",
    "pdTrafficPreCVAverage.insert(0, 'Days into last week', pdTrafficPreCVAverage['Day of week'].apply(lambda day: weekDaysOrder.index(day)))\n",
    "pdTrafficPreCVLowerQuantile.insert(0, 'Days into last week', pdTrafficPreCVAverage['Day of week'].apply(lambda day: weekDaysOrder.index(day)))\n",
    "pdTrafficPreCVUpperQuantile.insert(0, 'Days into last week', pdTrafficPreCVAverage['Day of week'].apply(lambda day: weekDaysOrder.index(day)))"
   ]
  },
  {
   "cell_type": "code",
   "execution_count": null,
   "metadata": {},
   "outputs": [],
   "source": [
    "pdTrafficPreCVAverage.sort_values(['Days into last week', 'Time of day'], inplace=True)\n",
    "pdTrafficPreCVLowerQuantile.sort_values(['Days into last week', 'Time of day'], inplace=True)\n",
    "pdTrafficPreCVUpperQuantile.sort_values(['Days into last week', 'Time of day'], inplace=True)\n",
    "pdTrafficPreCVAverage = pdTrafficPreCVAverage.reset_index(drop=True)\n",
    "pdTrafficPreCVLowerQuantile = pdTrafficPreCVLowerQuantile.reset_index(drop=True)\n",
    "pdTrafficPreCVUpperQuantile = pdTrafficPreCVUpperQuantile.reset_index(drop=True)\n",
    "#pdTrafficPreCVAverage"
   ]
  },
  {
   "cell_type": "code",
   "execution_count": null,
   "metadata": {},
   "outputs": [],
   "source": [
    "pdTrafficPreCVAverage.index = pdTrafficPreCVAverage.index.to_series().apply(\n",
    "  lambda rowId: lastWeekStart + pd.Timedelta(seconds=rowId * resampleInterval)\n",
    ")\n",
    "pdTrafficPreCVLowerQuantile.index = pdTrafficPreCVLowerQuantile.index.to_series().apply(\n",
    "  lambda rowId: lastWeekStart + pd.Timedelta(seconds=rowId * resampleInterval)\n",
    ")\n",
    "pdTrafficPreCVUpperQuantile.index = pdTrafficPreCVUpperQuantile.index.to_series().apply(\n",
    "  lambda rowId: lastWeekStart + pd.Timedelta(seconds=rowId * resampleInterval)\n",
    ")\n",
    "\n",
    "#pdTrafficPreCVUpperQuantile"
   ]
  },
  {
   "cell_type": "code",
   "execution_count": null,
   "metadata": {},
   "outputs": [],
   "source": [
    "# For Twitter sharing... transparency doesn't work so well when some browsers default to black background\n",
    "%config InlineBackend.print_figure_kwargs={'facecolor' : '#fafafa'}\n",
    "\n",
    "fig, axs = plt.subplots(\n",
    "    4, 2,\n",
    "    figsize = (15, 6 * 4),\n",
    "    constrained_layout=True\n",
    ")\n",
    "\n",
    "for idx, dayOfWeek in enumerate(['Saturday', 'Sunday', 'Monday', 'Tuesday', 'Wednesday', 'Thursday', 'Friday']):\n",
    "    #dayOfWeek = 'Saturday'\n",
    "    \n",
    "    ax = axs[math.floor(idx / 2), idx % 2]\n",
    "    \n",
    "    # Normalise the data against the normal maximum for this day of the week...\n",
    "    normalisedVolume = pdTrafficPreCVAverage[pdTrafficPreCVLowerQuantile['Day of week'] == dayOfWeek]['Total'].max(axis=0)\n",
    "\n",
    "    medianPlot = ax.plot(pdTrafficPreCVAverage[pdTrafficPreCVAverage['Day of week'] == dayOfWeek]['Total'] / normalisedVolume, label='%s average (Jul 2019 -)' % dayOfWeek, color='#233067')\n",
    "    percentileLegend = ax.fill_between(\n",
    "        pdTrafficPreCVLowerQuantile[pdTrafficPreCVLowerQuantile['Day of week'] == dayOfWeek]['Total'].index,\n",
    "        pdTrafficPreCVLowerQuantile[pdTrafficPreCVLowerQuantile['Day of week'] == dayOfWeek]['Total'] / normalisedVolume,\n",
    "        pdTrafficPreCVUpperQuantile[pdTrafficPreCVLowerQuantile['Day of week'] == dayOfWeek]['Total'] / normalisedVolume,\n",
    "        color='#233067',\n",
    "        linewidth=0,\n",
    "        alpha=0.1,\n",
    "        label='15-85%%ile for %s' % dayOfWeek\n",
    "    )\n",
    "\n",
    "    plotWeeks = 4\n",
    "    plotAlpha = 1.0\n",
    "    plotLegends = []\n",
    "\n",
    "    for weeksAgo in range(0, plotWeeks):\n",
    "        postCVSingleWeek = pdTrafficPostCV[\n",
    "            (pdTrafficPostCV.index >= lastWeekStart - pd.Timedelta(days = 7 * weeksAgo)) &\n",
    "            (pdTrafficPostCV.index < lastWeekEnd - pd.Timedelta(days = 7 * weeksAgo))\n",
    "        ].shift(\n",
    "            periods=7 * weeksAgo,\n",
    "            freq='d'\n",
    "        )\n",
    "        plotLegends.append(ax.plot(\n",
    "            postCVSingleWeek[postCVSingleWeek['Day of week'] == dayOfWeek]['Total'] / normalisedVolume,\n",
    "            label=None if plotAlpha < 1.0 else '%s for last %u weeks' % (dayOfWeek, plotWeeks),\n",
    "            linestyle='solid' if plotAlpha == 1.0 else '--',\n",
    "            dashes=(2, weeksAgo * 2),\n",
    "            color='#f64a8a',\n",
    "            alpha=plotAlpha\n",
    "        )[0])\n",
    "        plotAlpha = plotAlpha - 0.25\n",
    "\n",
    "\n",
    "    timeLocatorMajor = mdates.AutoDateLocator(minticks=6, maxticks=10)\n",
    "    conciseZeroFormats = ['', '%Y', '%b', '%d-%b', '%H:%M', '%H:%M']\n",
    "    conciseOffsetFormats = ['', '%Y', '%b-%Y', '%d-%b-%Y', '%d-%b-%Y', '%d-%b-%Y %H:%M']\n",
    "    ax.xaxis.set_tick_params(which='major')\n",
    "    ax.xaxis.set_major_locator(timeLocatorMajor)\n",
    "    ax.xaxis.set_major_formatter(mdates.ConciseDateFormatter(locator=timeLocatorMajor, zero_formats=conciseZeroFormats, offset_formats=conciseOffsetFormats, tz=tzLocal))\n",
    "    \n",
    "    ax.yaxis.set_major_formatter(mtick.PercentFormatter(1.0))\n",
    "\n",
    "    ax.set_facecolor('white')\n",
    "    ax.set_clip_on(False)\n",
    "\n",
    "    ax.set_title(dayOfWeek)\n",
    "    ax.set_ylabel('Normalised vehicle counts')\n",
    "\n",
    "# Hide the final plot...\n",
    "ax = axs[3][1]\n",
    "ax.axis('off')\n",
    "\n",
    "ax.legend(\n",
    "    [\n",
    "        medianPlot[0],\n",
    "        percentileLegend,\n",
    "        plt.Line2D([0],[0],color=\"w\"),\n",
    "        plt.Line2D([0],[0],color=\"w\")\n",
    "    ] + plotLegends,\n",
    "    [\n",
    "        'Median profile for day of week',\n",
    "        '10-90%ile for day of week',\n",
    "        'Baseline Jul - Feb 2020',\n",
    "        ''\n",
    "    ] + [\n",
    "        'Vehicles observed in the last week',\n",
    "        '    One week ago',\n",
    "        '    Two weeks ago',\n",
    "        '    Three weeks ago'\n",
    "    ],\n",
    "    loc='upper left',\n",
    "    ncol=1\n",
    ")\n",
    "    \n",
    "# plt.legend(ncol=1, loc='upper left', fontsize=10)\n",
    "# plt.tight_layout()\n",
    "plt.show()"
   ]
  },
  {
   "cell_type": "code",
   "execution_count": null,
   "metadata": {},
   "outputs": [],
   "source": []
  }
 ],
 "metadata": {
  "kernelspec": {
   "display_name": "Python 3",
   "language": "python",
   "name": "python3"
  },
  "language_info": {
   "codemirror_mode": {
    "name": "ipython",
    "version": 3
   },
   "file_extension": ".py",
   "mimetype": "text/x-python",
   "name": "python",
   "nbconvert_exporter": "python",
   "pygments_lexer": "ipython3",
   "version": "3.7.6"
  }
 },
 "nbformat": 4,
 "nbformat_minor": 4
}
