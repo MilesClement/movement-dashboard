{
 "cells": [
  {
   "cell_type": "code",
   "execution_count": null,
   "metadata": {},
   "outputs": [],
   "source": [
    "import pandas as pd\n",
    "import numpy as np\n",
    "import json\n",
    "import math\n",
    "import urllib.request\n",
    "import dateutil.parser\n",
    "import dateutil.rrule\n",
    "import dateutil.tz\n",
    "import datetime\n",
    "import re\n",
    "import gc\n",
    "import time"
   ]
  },
  {
   "cell_type": "code",
   "execution_count": null,
   "metadata": {},
   "outputs": [],
   "source": [
    "tzUTC = dateutil.tz.gettz('UTC')\n",
    "tzLocal = dateutil.tz.gettz('Europe/London')\n",
    "\n",
    "earliestData = datetime.datetime.strptime('2020-04-20T00:00:00Z', '%Y-%m-%dT%H:%M:%SZ').replace(tzinfo=tzUTC)"
   ]
  },
  {
   "cell_type": "code",
   "execution_count": null,
   "metadata": {},
   "outputs": [],
   "source": [
    "visionApiBase = 'https://uo-vision.dev.urbanobservatory.ac.uk/stills/dict'\n",
    "visionResponse = json.loads(\n",
    "    urllib.request.urlopen(visionApiBase).read().decode('utf-8')\n",
    ")"
   ]
  },
  {
   "cell_type": "code",
   "execution_count": null,
   "metadata": {},
   "outputs": [],
   "source": [
    "pdSources = pd.DataFrame.from_records(visionResponse).transpose()\n",
    "pdSources['min_date'] = pdSources['min_date'].apply(lambda d: datetime.datetime.strptime(d, '%Y-%m-%d').replace(tzinfo=tzUTC))\n",
    "pdSources['max_date'] = pdSources['max_date'].apply(lambda d: datetime.datetime.strptime(d, '%Y-%m-%d').replace(tzinfo=tzUTC))\n",
    "\n",
    "dfPointTs = None\n",
    "pdSources"
   ]
  },
  {
   "cell_type": "code",
   "execution_count": null,
   "metadata": {},
   "outputs": [
    {
     "name": "stdout",
     "output_type": "stream",
     "text": [
      ".]\n",
      "GH_A167G1\n",
      "  [...."
     ]
    }
   ],
   "source": [
    "for cameraId in pdSources.index:\n",
    "    if dfPointTs is not None and (('%s: Source image' % cameraId) in dfPointTs.columns):\n",
    "        continue\n",
    "    \n",
    "    source = pdSources[pdSources.index == cameraId].to_dict(orient='records')[0]\n",
    "    \n",
    "    print(cameraId)\n",
    "    print('  [', end='')\n",
    "    \n",
    "    sourceTs = None\n",
    "    \n",
    "    for date in dateutil.rrule.rrule(\n",
    "            dateutil.rrule.DAILY,\n",
    "            interval=1,\n",
    "            dtstart=source['min_date'] if source['min_date'] > earliestData else earliestData,\n",
    "            until=source['max_date']\n",
    "        ):\n",
    "        \n",
    "        windowResponse = None\n",
    "        windowAttempts = 0\n",
    "        while windowResponse is None:\n",
    "            try:\n",
    "                windowAttempts = windowAttempts + 1\n",
    "                windowResponse = json.loads(\n",
    "                    urllib.request.urlopen(\n",
    "                      'https://uo-vision.dev.urbanobservatory.ac.uk/stills/counts?location=%s&date=%s' % (cameraId, date.isoformat()[0:10])\n",
    "                    ).read().decode('utf-8')\n",
    "                )\n",
    "            except:\n",
    "                windowAttempts = windowAttempts + 1\n",
    "                print('x', end='')\n",
    "                time.sleep(min(windowAttempts, 10))\n",
    "\n",
    "        sourceOnDay = pd.DataFrame.from_records(pd.json_normalize(windowResponse), index=['ts'])\n",
    "        if len(sourceOnDay.index) > 0:\n",
    "            sourceOnDay.index = sourceOnDay.index.to_series().apply(lambda t: datetime.datetime.strptime(t, '%Y-%m-%d %H:%M:%S').replace(tzinfo=tzUTC))\n",
    "        \n",
    "        if len(sourceOnDay.columns) == 0:\n",
    "            continue\n",
    "        \n",
    "        if sourceTs is None:\n",
    "            sourceTs = sourceOnDay\n",
    "        else:\n",
    "            sourceTs = sourceTs.append(sourceOnDay)\n",
    "        \n",
    "        print('.', end='')\n",
    "    \n",
    "    print(']')\n",
    "    \n",
    "    sourceTs.drop(columns=['camera'], inplace=True)\n",
    "    sourceTs.rename(inplace=True, errors='ignore', columns={\n",
    "        'url': 'Source image',\n",
    "        'counts.bus': 'Bus',\n",
    "        'counts.car': 'Car',\n",
    "        'counts.cyclist': 'Cyclist',\n",
    "        'counts.motorcyclist': 'Motorcyclist',\n",
    "        'counts.person': 'Person',\n",
    "        'counts.truck': 'Truck',\n",
    "        'counts.van': 'Van'\n",
    "    })\n",
    "\n",
    "    sourceTsNumeric = sourceTs.resample('60s').sum()\n",
    "    sourceTs = sourceTsNumeric.join(sourceTs['Source image'].resample('60s').first())\n",
    "    \n",
    "    sourceTs = sourceTs.add_prefix('%s: ' % cameraId)\n",
    "    \n",
    "    if dfPointTs is None:\n",
    "        dfPointTs = sourceTs\n",
    "    else:\n",
    "        dfPointTs = dfPointTs.join(sourceTs)"
   ]
  },
  {
   "cell_type": "code",
   "execution_count": null,
   "metadata": {},
   "outputs": [],
   "source": [
    "dfPointTs"
   ]
  },
  {
   "cell_type": "code",
   "execution_count": null,
   "metadata": {},
   "outputs": [],
   "source": [
    "dfPointTs.to_pickle('../cache/recent-feature-counts-pd.pkl')"
   ]
  },
  {
   "cell_type": "code",
   "execution_count": null,
   "metadata": {},
   "outputs": [],
   "source": []
  }
 ],
 "metadata": {
  "kernelspec": {
   "display_name": "Python 3",
   "language": "python",
   "name": "python3"
  },
  "language_info": {
   "codemirror_mode": {
    "name": "ipython",
    "version": 3
   },
   "file_extension": ".py",
   "mimetype": "text/x-python",
   "name": "python",
   "nbconvert_exporter": "python",
   "pygments_lexer": "ipython3",
   "version": "3.7.6"
  }
 },
 "nbformat": 4,
 "nbformat_minor": 4
}
