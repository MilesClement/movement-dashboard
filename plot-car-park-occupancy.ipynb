{
 "cells": [
  {
   "cell_type": "code",
   "execution_count": null,
   "metadata": {
    "colab": {},
    "colab_type": "code",
    "id": "vga1znuak7QB"
   },
   "outputs": [],
   "source": [
    "import matplotlib\n",
    "import pandas as pd\n",
    "import numpy as np\n",
    "import json\n",
    "import math\n",
    "import urllib.request\n",
    "import dateutil.parser\n",
    "import dateutil.rrule\n",
    "import datetime\n",
    "import matplotlib.pyplot as plt\n",
    "import matplotlib.dates as mdates\n",
    "from textwrap import wrap\n",
    "\n",
    "matplotlib.rcParams.update({\n",
    "    'font.size': 13,\n",
    "    'timezone': 'Europe/London'\n",
    "})"
   ]
  },
  {
   "cell_type": "code",
   "execution_count": null,
   "metadata": {
    "colab": {},
    "colab_type": "code",
    "id": "44C0MsGOKSKn"
   },
   "outputs": [],
   "source": [
    "# Used across all of the plots\n",
    "dateToday = datetime.datetime.combine(datetime.date.today(), datetime.datetime.min.time())\n",
    "\n",
    "colourUp = '#f64a8a'\n",
    "colourDown = '#233067'\n",
    "\n",
    "resampleFrequency = 900"
   ]
  },
  {
   "cell_type": "markdown",
   "metadata": {
    "colab_type": "text",
    "id": "bG7Z52mXTrLw"
   },
   "source": [
    "# Car parks\n"
   ]
  },
  {
   "cell_type": "code",
   "execution_count": null,
   "metadata": {
    "colab": {
     "base_uri": "https://localhost:8080/",
     "height": 946
    },
    "colab_type": "code",
    "id": "GNidLPlDTvHE",
    "outputId": "6e702db4-5a86-4d29-d996-7b4c5588197d"
   },
   "outputs": [],
   "source": [
    "carParkRequestBase = 'https://api.newcastle.urbanobservatory.ac.uk/api/v2/sensors/entity'\n",
    "\n",
    "# Fetch a list of all the car parks...\n",
    "carParkTimeseriesIRIs = {}\n",
    "carParkMetadata = {}\n",
    "carParkRequestPage = 1\n",
    "carParkResponse = None\n",
    "\n",
    "while carParkResponse is None or len(carParkResponse) > 1:\n",
    "  carParkResponse = json.loads(\n",
    "      urllib.request.urlopen(\n",
    "        '%s?metric=\"Occupied%%20spaces\"&page=%u' % (carParkRequestBase, carParkRequestPage)\n",
    "      ).read().decode('utf-8')\n",
    "  )['items']\n",
    "\n",
    "  carParkRequestPage = carParkRequestPage + 1\n",
    "\n",
    "  for carPark in carParkResponse:\n",
    "    for feed in carPark['feed']:\n",
    "      for timeseries in feed['timeseries']:\n",
    "        for link in timeseries['links']:\n",
    "          if (link['rel'] == 'archives.friendly' and \\\n",
    "            'latest' in timeseries):\n",
    "            carParkTimeseriesIRIs[carPark['meta']['name']] = link['href']\n",
    "            carParkMetadata[carPark['meta']['name']] = {\n",
    "                'address': carPark['meta']['address'],\n",
    "                'postcode': carPark['meta']['address'].split(',')[-1].strip(),\n",
    "                'district': carPark['meta']['address'].split(',')[-1].strip().split(' ')[0],\n",
    "                'capacity': feed['meta']['totalSpaces'],\n",
    "                'latest': timeseries['latest']['value']\n",
    "            }\n",
    "\n",
    "print('Discovered %u car parks with occupancy data.' % len(carParkTimeseriesIRIs))\n",
    "\n",
    "carParkMetadata = pd.DataFrame.from_records(carParkMetadata).transpose()\n",
    "carParkMetadata"
   ]
  },
  {
   "cell_type": "code",
   "execution_count": null,
   "metadata": {
    "colab": {
     "base_uri": "https://localhost:8080/",
     "height": 1000
    },
    "colab_type": "code",
    "id": "Thc15ixbUgH3",
    "outputId": "8473b2e5-50e3-45ff-8542-8f2f2c1093e7"
   },
   "outputs": [],
   "source": [
    "requestDays = 211\n",
    "daysPerRequest = 37\n",
    "dfCarParks = None\n",
    "\n",
    "print('Requesting car park occupancy in %u day chunks...' % daysPerRequest)\n",
    "\n",
    "for carParkName in carParkTimeseriesIRIs.keys():\n",
    "  carParkRequestTimeseries = carParkTimeseriesIRIs[carParkName]\n",
    "  carParkTimeseries = []\n",
    "\n",
    "  print('  %s' % carParkName)\n",
    "  print('  [', end='')\n",
    "\n",
    "  for windowStart in dateutil.rrule.rrule(\n",
    "      dateutil.rrule.DAILY,\n",
    "      interval=daysPerRequest,\n",
    "      dtstart=dateToday - pd.Timedelta(days=requestDays),\n",
    "      until=dateToday + pd.Timedelta(hours=24)\n",
    "    ):\n",
    "\n",
    "    windowEnd = windowStart + pd.Timedelta(days=daysPerRequest) - pd.Timedelta(seconds=1)\n",
    "\n",
    "    windowResponse = json.loads(\n",
    "        urllib.request.urlopen(\n",
    "          '%s?startTime=%s&endTime=%s' % (carParkRequestTimeseries, windowStart.isoformat().replace('+00:00', 'Z'), windowEnd.isoformat().replace('+00:00', 'Z'))\n",
    "        ).read().decode('utf-8')\n",
    "    )['historic']['values']\n",
    "\n",
    "    carParkTimeseries.extend(windowResponse)\n",
    "    print('.', end='')\n",
    "\n",
    "  print(']')\n",
    "\n",
    "  # Duration isn't relevant to the car park data\n",
    "  dfCP = pd.DataFrame.from_records(carParkTimeseries, exclude=['duration'])\n",
    "\n",
    "  # Times in this API are in ISO8601\n",
    "  dfCP['time'] = dfCP['time'].apply(lambda t: datetime.datetime.strptime(t, \"%Y-%m-%dT%H:%M:%S.%fZ\"))\n",
    "  \n",
    "  dfCP = dfCP.rename(columns={'value': carParkName})\n",
    "  dfCP.set_index('time', inplace=True, drop=True)\n",
    "\n",
    "  dfCP = dfCP.resample('%us' % resampleFrequency).median().fillna(method='ffill', limit=12)\n",
    "\n",
    "  if dfCarParks is None:\n",
    "    dfCarParks = dfCP\n",
    "  else:\n",
    "    dfCarParks = dfCarParks.join(dfCP, how='outer')\n",
    "\n",
    "dfCarParks\n"
   ]
  },
  {
   "cell_type": "code",
   "execution_count": null,
   "metadata": {
    "colab": {},
    "colab_type": "code",
    "id": "SJBuOs0rZLxd"
   },
   "outputs": [],
   "source": [
    "def plotCarParkTimeseries(type='continuous', historicCutOffDays=28):\n",
    "  dfCarParksRecent = dfCarParks[dfCarParks.index >= dateToday - pd.Timedelta(days=historicCutOffDays)]\n",
    "  dfCarParkMissingFreq = dfCarParksRecent \\\n",
    "    .isna() \\\n",
    "    .sum(axis=0) \\\n",
    "    .apply(lambda c: c / len(dfCarParksRecent.index))\n",
    "  dfCarParkPlotList = sorted(\n",
    "    dfCarParkMissingFreq[dfCarParkMissingFreq < 0.5].index,\n",
    "    key=lambda carPark: carParkMetadata[carParkMetadata.index == carPark]['capacity'].values[0],\n",
    "    reverse=True\n",
    "  )\n",
    "\n",
    "  if type == 'daily':\n",
    "    dfCarParksRecent = dfCarParksRecent.resample('24H').sum() / (3600 / resampleFrequency)\n",
    "\n",
    "  fig, axs = plt.subplots(\n",
    "    len(dfCarParkPlotList), 1,\n",
    "    figsize = (18, 1.5 * len(dfCarParkPlotList))\n",
    "  )\n",
    "\n",
    "  plotIndex = 0\n",
    "\n",
    "  for carPark in dfCarParkPlotList:\n",
    "    carParkMeta = carParkMetadata[carParkMetadata.index == carPark]\n",
    "    ax = axs[plotIndex]\n",
    "    ax.set_title(\n",
    "      '%s (%s with %u spaces)' % (\n",
    "        carPark,\n",
    "        carParkMeta['district'].values[0],\n",
    "        carParkMeta['capacity'].values[0]\n",
    "      ),\n",
    "      loc='left',\n",
    "      fontdict={ 'horizontalalignment': 'left', 'fontsize': 12 }\n",
    "    )\n",
    "    ax.margins(x=0, y=0)\n",
    "\n",
    "    if type == 'daily':\n",
    "      dfWeekdays = dfCarParksRecent[dfCarParksRecent.index.to_series().apply(\n",
    "        lambda t: t.strftime('%A') not in ['Saturday', 'Sunday']\n",
    "      )][carPark]\n",
    "      dfWeekends = dfCarParksRecent[dfCarParksRecent.index.to_series().apply(\n",
    "        lambda t: t.strftime('%A') in ['Saturday', 'Sunday']\n",
    "      )][carPark]\n",
    "\n",
    "      ax.bar(\n",
    "        dfWeekdays.index,\n",
    "        dfWeekdays,\n",
    "        color=colourDown,\n",
    "        label='Vehicle-hours on weekdays'\n",
    "      )\n",
    "      ax.bar(\n",
    "        dfWeekends.index,\n",
    "        dfWeekends,\n",
    "        color=colourUp,\n",
    "        label='Vehicle-hours on weekends'\n",
    "      )\n",
    "    elif type == 'continuous':\n",
    "      ax.fill_between(\n",
    "        dfCarParksRecent[carPark].index,\n",
    "        dfCarParksRecent[carPark],\n",
    "        color=colourDown,\n",
    "        where=dfCarParksRecent.index.to_series().apply(\n",
    "          lambda t: t.strftime('%A') not in ['Saturday', 'Sunday']\n",
    "        ),\n",
    "        label='Occupied spaces on weekdays'\n",
    "      )\n",
    "      ax.fill_between(\n",
    "        dfCarParksRecent[carPark].index,\n",
    "        dfCarParksRecent[carPark],\n",
    "        color=colourUp,\n",
    "        where=dfCarParksRecent.index.to_series().apply(\n",
    "          lambda t: t.strftime('%A') in ['Saturday', 'Sunday']\n",
    "        ),\n",
    "        label='Occupied spaces on weekend'\n",
    "      )\n",
    "\n",
    "    ax.xaxis.set_major_locator(mdates.WeekdayLocator(interval=1, byweekday=mdates.MO))\n",
    "    ax.xaxis.set_tick_params(which='major', pad=15)\n",
    "    ax.xaxis.set_minor_locator(mdates.DayLocator(interval=1))\n",
    "\n",
    "    if ax == axs[-1]:\n",
    "      ax.set_xlabel('Date')\n",
    "\n",
    "      if historicCutOffDays > 75:\n",
    "        timeLocatorMajor = mdates.AutoDateLocator(minticks=10, maxticks=30)\n",
    "        conciseZeroFormats = ['', '%Y', '%b', '%d-%b', '%H:%M', '%H:%M']\n",
    "        conciseOffsetFormats = ['', '%Y', '%b-%Y', '%d-%b-%Y-%b', '%d-%b-%Y', '%d-%b-%Y %H:%M']\n",
    "        ax.xaxis.set_tick_params(which='major', pad=0)\n",
    "        ax.xaxis.set_major_locator(timeLocatorMajor)\n",
    "        ax.xaxis.set_major_formatter(mdates.ConciseDateFormatter(locator=timeLocatorMajor, zero_formats=conciseZeroFormats, offset_formats=conciseOffsetFormats))\n",
    "      else:\n",
    "        dataFormatMajor = mdates.DateFormatter('%a %d %b')\n",
    "        ax.xaxis.set_major_formatter(dataFormatMajor)\n",
    "        ax.xaxis.set_minor_formatter(mdates.DateFormatter('%d'))\n",
    "    else:\n",
    "      ax.xaxis.set_ticklabels([]);\n",
    "\n",
    "    if ax == axs[0]:\n",
    "      ax.legend(\n",
    "        loc='upper right',\n",
    "        ncol=2,\n",
    "        fontsize=11,\n",
    "        frameon=False,\n",
    "        bbox_to_anchor=(1.0, 1.35)\n",
    "      )\n",
    "\n",
    "    plotIndex = plotIndex + 1\n",
    "\n",
    "  plt.tight_layout()\n",
    "  fig.subplots_adjust(hspace=0.4)\n",
    "  plt.show()"
   ]
  },
  {
   "cell_type": "markdown",
   "metadata": {
    "colab_type": "text",
    "id": "z27LjaX8fjfU"
   },
   "source": [
    "## Daily vehicle occupancy during the last six months\n",
    "\n",
    "The below charts are expressed in vehicle-hours, meaning each vehicle being parked is multiplied by the duration of its stay."
   ]
  },
  {
   "cell_type": "code",
   "execution_count": null,
   "metadata": {
    "colab": {
     "base_uri": "https://localhost:8080/",
     "height": 1000
    },
    "colab_type": "code",
    "id": "zb9WL5UqlX_u",
    "outputId": "3d68d2e8-6664-4ed1-a5ad-316904373308"
   },
   "outputs": [],
   "source": [
    "# Daily car-hours as a bar chart\n",
    "plotCarParkTimeseries('daily', 210)"
   ]
  },
  {
   "cell_type": "markdown",
   "metadata": {
    "colab_type": "text",
    "id": "GZAmz2CMfM3U"
   },
   "source": [
    "## Recent timeseries\n",
    "\n",
    "The below plot shows the profile of the car park occupancy within the last month or so, rather than being aggregated to a daily level."
   ]
  },
  {
   "cell_type": "code",
   "execution_count": null,
   "metadata": {
    "colab": {
     "base_uri": "https://localhost:8080/",
     "height": 1000
    },
    "colab_type": "code",
    "id": "pB6usV19jqT0",
    "outputId": "c6525798-3f3a-436b-cd1f-228e25a8f5d8"
   },
   "outputs": [],
   "source": [
    "# Continuous plot of areas for the last N days\n",
    "plotCarParkTimeseries('continuous', 42)"
   ]
  },
  {
   "cell_type": "code",
   "execution_count": null,
   "metadata": {
    "colab": {},
    "colab_type": "code",
    "id": "J7cPsKUxukqL"
   },
   "outputs": [],
   "source": []
  }
 ],
 "metadata": {
  "colab": {
   "collapsed_sections": [],
   "name": "Recent car park occupancy.ipynb",
   "provenance": [],
   "toc_visible": true
  },
  "kernelspec": {
   "display_name": "Python 3",
   "language": "python",
   "name": "python3"
  },
  "language_info": {
   "codemirror_mode": {
    "name": "ipython",
    "version": 3
   },
   "file_extension": ".py",
   "mimetype": "text/x-python",
   "name": "python",
   "nbconvert_exporter": "python",
   "pygments_lexer": "ipython3",
   "version": "3.7.6"
  }
 },
 "nbformat": 4,
 "nbformat_minor": 4
}
